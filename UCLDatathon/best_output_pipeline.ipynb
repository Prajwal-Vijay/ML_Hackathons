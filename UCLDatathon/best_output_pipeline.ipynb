{
 "cells": [
  {
   "cell_type": "code",
   "execution_count": 118,
   "metadata": {
    "_cell_guid": "b1076dfc-b9ad-4769-8c92-a6c4dae69d19",
    "_uuid": "8f2839f25d086af736a60e9eeb907d3b93b6e0e5",
    "execution": {
     "iopub.execute_input": "2025-06-09T14:42:05.518101Z",
     "iopub.status.busy": "2025-06-09T14:42:05.517886Z",
     "iopub.status.idle": "2025-06-09T14:42:05.578792Z",
     "shell.execute_reply": "2025-06-09T14:42:05.577988Z",
     "shell.execute_reply.started": "2025-06-09T14:42:05.518088Z"
    },
    "trusted": true
   },
   "outputs": [
    {
     "name": "stdout",
     "output_type": "stream",
     "text": [
      "/kaggle/input/elo-scores/ELO_Ratings/ManCity.csv\n",
      "/kaggle/input/elo-scores/ELO_Ratings/Liverpool.csv\n",
      "/kaggle/input/elo-scores/ELO_Ratings/werder.csv\n",
      "/kaggle/input/elo-scores/ELO_Ratings/Milan.csv\n",
      "/kaggle/input/elo-scores/ELO_Ratings/Olympiacos.csv\n",
      "/kaggle/input/elo-scores/ELO_Ratings/Marseille.csv\n",
      "/kaggle/input/elo-scores/ELO_Ratings/Panathinaikos.csv\n",
      "/kaggle/input/elo-scores/ELO_Ratings/Lyon.csv\n",
      "/kaggle/input/elo-scores/ELO_Ratings/Dortmund.csv\n",
      "/kaggle/input/elo-scores/ELO_Ratings/Inter.csv\n",
      "/kaggle/input/elo-scores/ELO_Ratings/Benfica.csv\n",
      "/kaggle/input/elo-scores/ELO_Ratings/Wolfsburg.csv\n",
      "/kaggle/input/elo-scores/ELO_Ratings/Lille.csv\n",
      "/kaggle/input/elo-scores/ELO_Ratings/Celtic.csv\n",
      "/kaggle/input/elo-scores/ELO_Ratings/Napoli.csv\n",
      "/kaggle/input/elo-scores/ELO_Ratings/Monaco.csv\n",
      "/kaggle/input/elo-scores/ELO_Ratings/Basel.csv\n",
      "/kaggle/input/elo-scores/ELO_Ratings/ParisSG.csv\n",
      "/kaggle/input/elo-scores/ELO_Ratings/Bayern.csv\n",
      "/kaggle/input/elo-scores/ELO_Ratings/PSV.csv\n",
      "/kaggle/input/elo-scores/ELO_Ratings/CSKAMoskva.csv\n",
      "/kaggle/input/elo-scores/ELO_Ratings/Fenerbahce.csv\n",
      "/kaggle/input/elo-scores/ELO_Ratings/Zenit.csv\n",
      "/kaggle/input/elo-scores/ELO_Ratings/Valencia.csv\n",
      "/kaggle/input/elo-scores/ELO_Ratings/Leicester.csv\n",
      "/kaggle/input/elo-scores/ELO_Ratings/ManUnited.csv\n",
      "/kaggle/input/elo-scores/ELO_Ratings/Barcelona.csv\n",
      "/kaggle/input/elo-scores/ELO_Ratings/Galatasaray.csv\n",
      "/kaggle/input/elo-scores/ELO_Ratings/DynamoKyiv.csv\n",
      "/kaggle/input/elo-scores/ELO_Ratings/Fiorentina.csv\n",
      "/kaggle/input/elo-scores/ELO_Ratings/Tottenham.csv\n",
      "/kaggle/input/elo-scores/ELO_Ratings/Copenhagen.csv\n",
      "/kaggle/input/elo-scores/ELO_Ratings/Malaga.csv\n",
      "/kaggle/input/elo-scores/ELO_Ratings/Juventus.csv\n",
      "/kaggle/input/elo-scores/ELO_Ratings/Leverkusen.csv\n",
      "/kaggle/input/elo-scores/ELO_Ratings/Gent.csv\n",
      "/kaggle/input/elo-scores/ELO_Ratings/Arsenal.csv\n",
      "/kaggle/input/elo-scores/ELO_Ratings/sporting.csv\n",
      "/kaggle/input/elo-scores/ELO_Ratings/Villarreal.csv\n",
      "/kaggle/input/elo-scores/ELO_Ratings/Sevilla.csv\n",
      "/kaggle/input/elo-scores/ELO_Ratings/APOEL.csv\n",
      "/kaggle/input/elo-scores/ELO_Ratings/Ajax.csv\n",
      "/kaggle/input/elo-scores/ELO_Ratings/Bordeaux.csv\n",
      "/kaggle/input/elo-scores/ELO_Ratings/Roma.csv\n",
      "/kaggle/input/elo-scores/ELO_Ratings/Shakhtar.csv\n",
      "/kaggle/input/elo-scores/ELO_Ratings/Stuttgart.csv\n",
      "/kaggle/input/elo-scores/ELO_Ratings/Rangers.csv\n",
      "/kaggle/input/elo-scores/ELO_Ratings/Porto.csv\n",
      "/kaggle/input/elo-scores/ELO_Ratings/Schalke.csv\n",
      "/kaggle/input/elo-scores/ELO_Ratings/Atletico.csv\n",
      "/kaggle/input/elo-scores/ELO_Ratings/Chelsea.csv\n",
      "/kaggle/input/elo-scores/ELO_Ratings/RealMadrid.csv\n",
      "/kaggle/input/european-soccer-data/Full_Dataset.csv\n",
      "/kaggle/input/ucl-datathon/sample_submission.csv\n",
      "/kaggle/input/ucl-datathon/train.json\n",
      "/kaggle/input/ucl-datathon/test_matchups (1).json\n",
      "/kaggle/input/my-data/ucl.csv\n",
      "/kaggle/input/my-data/final_train.csv\n",
      "/kaggle/input/prajwal-training/train_data_with_feature_addn.csv\n"
     ]
    }
   ],
   "source": [
    "# This Python 3 environment comes with many helpful analytics libraries installed\n",
    "# It is defined by the kaggle/python Docker image: https://github.com/kaggle/docker-python\n",
    "# For example, here's several helpful packages to load\n",
    "\n",
    "import numpy as np # linear algebra\n",
    "import pandas as pd # data processing, CSV file I/O (e.g. pd.read_csv)\n",
    "\n",
    "# Input data files are available in the read-only \"../input/\" directory\n",
    "# For example, running this (by clicking run or pressing Shift+Enter) will list all files under the input directory\n",
    "\n",
    "import os\n",
    "for dirname, _, filenames in os.walk('/kaggle/input'):\n",
    "    for filename in filenames:\n",
    "        print(os.path.join(dirname, filename))\n",
    "\n",
    "# You can write up to 20GB to the current directory (/kaggle/working/) that gets preserved as output when you create a version using \"Save & Run All\" \n",
    "# You can also write temporary files to /kaggle/temp/, but they won't be saved outside of the current session"
   ]
  },
  {
   "cell_type": "code",
   "execution_count": 119,
   "metadata": {
    "execution": {
     "iopub.execute_input": "2025-06-09T14:42:08.601836Z",
     "iopub.status.busy": "2025-06-09T14:42:08.601559Z",
     "iopub.status.idle": "2025-06-09T14:42:08.605652Z",
     "shell.execute_reply": "2025-06-09T14:42:08.604891Z",
     "shell.execute_reply.started": "2025-06-09T14:42:08.601817Z"
    },
    "trusted": true
   },
   "outputs": [],
   "source": [
    "import optuna\n",
    "from sklearn.model_selection import cross_val_score, StratifiedKFold\n"
   ]
  },
  {
   "cell_type": "code",
   "execution_count": null,
   "metadata": {
    "execution": {
     "iopub.execute_input": "2025-06-09T14:42:35.312620Z",
     "iopub.status.busy": "2025-06-09T14:42:35.312385Z",
     "iopub.status.idle": "2025-06-09T14:42:35.329652Z",
     "shell.execute_reply": "2025-06-09T14:42:35.329022Z",
     "shell.execute_reply.started": "2025-06-09T14:42:35.312606Z"
    },
    "trusted": true
   },
   "outputs": [],
   "source": [
    "import pandas as pd\n",
    "import numpy as np\n",
    "import json\n",
    "from sklearn.preprocessing import StandardScaler, LabelEncoder\n",
    "from sklearn.pipeline import Pipeline\n",
    "from sklearn.compose import ColumnTransformer\n",
    "from sklearn.impute import SimpleImputer\n",
    "from xgboost import XGBRegressor\n",
    "from xgboost import XGBClassifier\n",
    "from sklearn.ensemble import RandomForestClassifier\n",
    "from sklearn.base import BaseEstimator, TransformerMixin\n",
    "from datetime import datetime\n",
    "\n",
    "# Load training data\n",
    "df = pd.read_csv(\"/best_ouput_training_data.csv\")\n",
    "\n",
    "# Label encode team names and date features\n",
    "team_encoder = LabelEncoder()\n",
    "\n",
    "# Fit on all unique values in both columns\n",
    "all_teams = pd.concat([df[\"team1\"], df[\"team2\"]]).unique()\n",
    "team_encoder.fit(all_teams)\n",
    "df['team1'] = team_encoder.transform(df['team1'])\n",
    "df['team2'] = team_encoder.transform(df['team2'])\n",
    "last_index = len(team_encoder.classes_)-1\n",
    "\n",
    "df['date'] = pd.to_datetime(df['date'], dayfirst=True)\n",
    "# df['year'] = df['date'].dt.year\n",
    "# df['month'] = df['date'].dt.month\n",
    "# df['day'] = df['date'].dt.day\n",
    "df['elo_ratio'] = df['elo_team1']/df['elo_team2']\n",
    "df.drop(columns=['elo_team1','elo_team2','team1_home','result','elo_diff'],inplace=True)\n",
    "\n",
    "# Drop original date\n",
    "X = df.drop(columns=['team1_wins', 'match_no'])\n",
    "y = df['team1_wins']\n",
    "\n",
    "# Preprocessing pipeline\n",
    "numeric_features = X.select_dtypes(include=[np.number]).columns\n",
    "preprocessor = ColumnTransformer([\n",
    "    (\"num\", StandardScaler(), numeric_features)\n",
    "])\n",
    "\n",
    "# XGBoost Regressor\n",
    "regressor = XGBClassifier(n_estimators=1000, max_depth=4, learning_rate=0.1)\n",
    "pipeline = Pipeline([\n",
    "    (\"preprocess\", preprocessor),\n",
    "    (\"regressor\", regressor)\n",
    "])\n",
    "\n",
    "\n",
    "\n"
   ]
  },
  {
   "cell_type": "code",
   "execution_count": 97,
   "metadata": {
    "execution": {
     "iopub.execute_input": "2025-06-09T14:27:40.536794Z",
     "iopub.status.busy": "2025-06-09T14:27:40.536492Z",
     "iopub.status.idle": "2025-06-09T14:27:40.542019Z",
     "shell.execute_reply": "2025-06-09T14:27:40.541358Z",
     "shell.execute_reply.started": "2025-06-09T14:27:40.536776Z"
    },
    "trusted": true
   },
   "outputs": [],
   "source": [
    "def objective(trial):\n",
    "    # Suggest hyperparameters\n",
    "    params = {\n",
    "        'regressor__n_estimators': trial.suggest_int('n_estimators', 100, 2000),\n",
    "        'regressor__max_depth': trial.suggest_int('max_depth', 3, 10),\n",
    "        'regressor__learning_rate': trial.suggest_float('learning_rate', 1e-4, 0.3, log=True),\n",
    "        'regressor__subsample': trial.suggest_float('subsample', 0.5, 1.0),\n",
    "        'regressor__colsample_bytree': trial.suggest_float('colsample_bytree', 0.5, 1.0),\n",
    "        'regressor__gamma': trial.suggest_float('gamma', 0, 5),\n",
    "        'regressor__reg_alpha': trial.suggest_float('reg_alpha', 0, 5),\n",
    "        'regressor__reg_lambda': trial.suggest_float('reg_lambda', 0, 5)\n",
    "    }\n",
    "    \n",
    "    # Set parameters in pipeline\n",
    "    pipeline.set_params(**params)\n",
    "    \n",
    "    # Cross-validation setup with stratified splits\n",
    "    cv = StratifiedKFold(n_splits=3, shuffle=True, random_state=42)\n",
    "    \n",
    "    # Use clf_pipeline (your wrapped classifier) for scoring\n",
    "    scores = cross_val_score(\n",
    "        pipeline,  # Use the wrapped classifier\n",
    "        X, y,\n",
    "        cv=cv,\n",
    "        scoring='neg_log_loss',  # Or 'roc_auc'\n",
    "        n_jobs=-1\n",
    "    )\n",
    "    \n",
    "    return np.mean(scores)"
   ]
  },
  {
   "cell_type": "code",
   "execution_count": 98,
   "metadata": {
    "execution": {
     "iopub.execute_input": "2025-06-09T14:27:44.126815Z",
     "iopub.status.busy": "2025-06-09T14:27:44.126525Z",
     "iopub.status.idle": "2025-06-09T14:27:54.214435Z",
     "shell.execute_reply": "2025-06-09T14:27:54.213879Z",
     "shell.execute_reply.started": "2025-06-09T14:27:44.126796Z"
    },
    "trusted": true
   },
   "outputs": [
    {
     "name": "stderr",
     "output_type": "stream",
     "text": [
      "[I 2025-06-09 14:27:44,128] A new study created in memory with name: no-name-d972ceb0-490f-4beb-8e5d-6d0ef597a212\n",
      "[I 2025-06-09 14:27:45,330] Trial 0 finished with value: -0.6315959655533091 and parameters: {'n_estimators': 292, 'max_depth': 5, 'learning_rate': 0.00017581916556461827, 'subsample': 0.7382445713546564, 'colsample_bytree': 0.6561848048319536, 'gamma': 1.9620791303069702, 'reg_alpha': 0.7841643413574173, 'reg_lambda': 2.236918170956539}. Best is trial 0 with value: -0.6315959655533091.\n",
      "[I 2025-06-09 14:27:46,069] Trial 1 finished with value: -0.4062428841708312 and parameters: {'n_estimators': 175, 'max_depth': 4, 'learning_rate': 0.020163264344407194, 'subsample': 0.6138443099241698, 'colsample_bytree': 0.9058695646712075, 'gamma': 2.282584596007439, 'reg_alpha': 3.7435196087175675, 'reg_lambda': 1.4675334191137095}. Best is trial 1 with value: -0.4062428841708312.\n",
      "[I 2025-06-09 14:27:46,350] Trial 2 finished with value: -0.5262868166970639 and parameters: {'n_estimators': 955, 'max_depth': 8, 'learning_rate': 0.0004414522858740752, 'subsample': 0.5034987841793901, 'colsample_bytree': 0.8219830974697533, 'gamma': 3.15914305324079, 'reg_alpha': 0.5551150700622276, 'reg_lambda': 1.825585993739588}. Best is trial 1 with value: -0.4062428841708312.\n",
      "[I 2025-06-09 14:27:46,681] Trial 3 finished with value: -0.5617189364924324 and parameters: {'n_estimators': 834, 'max_depth': 4, 'learning_rate': 0.00029563467519924246, 'subsample': 0.9350644093656812, 'colsample_bytree': 0.8595809580834735, 'gamma': 2.1312472238829425, 'reg_alpha': 2.9847735220856, 'reg_lambda': 1.3804367071190782}. Best is trial 1 with value: -0.4062428841708312.\n",
      "[I 2025-06-09 14:27:46,991] Trial 4 finished with value: -0.35073590419326733 and parameters: {'n_estimators': 1889, 'max_depth': 5, 'learning_rate': 0.06079834811547488, 'subsample': 0.8823088995045989, 'colsample_bytree': 0.7624352666481147, 'gamma': 3.1135806854258212, 'reg_alpha': 0.5532751255434126, 'reg_lambda': 1.5279633783602158}. Best is trial 4 with value: -0.35073590419326733.\n",
      "[I 2025-06-09 14:27:47,090] Trial 5 finished with value: -0.38241731408267404 and parameters: {'n_estimators': 280, 'max_depth': 5, 'learning_rate': 0.010537595768867182, 'subsample': 0.7940725448438228, 'colsample_bytree': 0.7977809767355503, 'gamma': 4.7061842130012, 'reg_alpha': 0.8417164943591288, 'reg_lambda': 1.9820536644984954}. Best is trial 4 with value: -0.35073590419326733.\n",
      "[I 2025-06-09 14:27:47,389] Trial 6 finished with value: -0.38040845682117413 and parameters: {'n_estimators': 1744, 'max_depth': 3, 'learning_rate': 0.0034767057657313777, 'subsample': 0.9270453011519374, 'colsample_bytree': 0.5138296862335723, 'gamma': 3.3686796687710805, 'reg_alpha': 1.6782337168559813, 'reg_lambda': 0.7122099567063195}. Best is trial 4 with value: -0.35073590419326733.\n",
      "[I 2025-06-09 14:27:47,688] Trial 7 finished with value: -0.5192378324749569 and parameters: {'n_estimators': 771, 'max_depth': 5, 'learning_rate': 0.00041199268887718134, 'subsample': 0.6730390739570322, 'colsample_bytree': 0.9103335149021479, 'gamma': 2.1273185968645785, 'reg_alpha': 0.8629102560270857, 'reg_lambda': 0.07270560416154037}. Best is trial 4 with value: -0.35073590419326733.\n",
      "[I 2025-06-09 14:27:47,916] Trial 8 finished with value: -0.35302432692677427 and parameters: {'n_estimators': 1405, 'max_depth': 7, 'learning_rate': 0.05270592653335489, 'subsample': 0.7766953143511577, 'colsample_bytree': 0.9275143186138042, 'gamma': 1.2070184428895814, 'reg_alpha': 2.932265080375283, 'reg_lambda': 3.7537086252348133}. Best is trial 4 with value: -0.35073590419326733.\n",
      "[I 2025-06-09 14:27:48,095] Trial 9 finished with value: -0.429155223365862 and parameters: {'n_estimators': 967, 'max_depth': 6, 'learning_rate': 0.010688055371248603, 'subsample': 0.8976253011274473, 'colsample_bytree': 0.8119564133405148, 'gamma': 4.527515297166283, 'reg_alpha': 4.847398389515478, 'reg_lambda': 3.435289919467342}. Best is trial 4 with value: -0.35073590419326733.\n",
      "[I 2025-06-09 14:27:48,388] Trial 10 finished with value: -0.36180473620592846 and parameters: {'n_estimators': 1807, 'max_depth': 10, 'learning_rate': 0.29617535332955147, 'subsample': 0.9938651422888974, 'colsample_bytree': 0.6853146247545039, 'gamma': 0.4365853922928311, 'reg_alpha': 0.03661646861643786, 'reg_lambda': 4.546228547018711}. Best is trial 4 with value: -0.35073590419326733.\n",
      "[I 2025-06-09 14:27:48,649] Trial 11 finished with value: -0.3316897302825457 and parameters: {'n_estimators': 1430, 'max_depth': 8, 'learning_rate': 0.09941794731613779, 'subsample': 0.8120590264554157, 'colsample_bytree': 0.9910221337718904, 'gamma': 0.8181461099405025, 'reg_alpha': 2.4906796784246596, 'reg_lambda': 3.613267183418292}. Best is trial 11 with value: -0.3316897302825457.\n",
      "[I 2025-06-09 14:27:48,915] Trial 12 finished with value: -0.3224239557280084 and parameters: {'n_estimators': 1466, 'max_depth': 9, 'learning_rate': 0.14343765142757758, 'subsample': 0.8356918799542662, 'colsample_bytree': 0.9897455551925292, 'gamma': 0.5265441793313241, 'reg_alpha': 1.937929655412288, 'reg_lambda': 3.0425022140155478}. Best is trial 12 with value: -0.3224239557280084.\n",
      "[I 2025-06-09 14:27:49,164] Trial 13 finished with value: -0.3207630287792213 and parameters: {'n_estimators': 1396, 'max_depth': 9, 'learning_rate': 0.26698986007440084, 'subsample': 0.835085262612725, 'colsample_bytree': 0.991538483532138, 'gamma': 0.05434924106039585, 'reg_alpha': 2.0914719732265574, 'reg_lambda': 3.1995328865928676}. Best is trial 13 with value: -0.3207630287792213.\n",
      "[I 2025-06-09 14:27:49,416] Trial 14 finished with value: -0.32680333518220345 and parameters: {'n_estimators': 1408, 'max_depth': 10, 'learning_rate': 0.2960397362964852, 'subsample': 0.8442083737028879, 'colsample_bytree': 0.9935533254651554, 'gamma': 0.018925892014662882, 'reg_alpha': 1.9026024869038287, 'reg_lambda': 2.945571124567636}. Best is trial 13 with value: -0.3207630287792213.\n",
      "[I 2025-06-09 14:27:49,870] Trial 15 finished with value: -0.3657685003354663 and parameters: {'n_estimators': 1244, 'max_depth': 9, 'learning_rate': 0.0020130936440674375, 'subsample': 0.7309186832850603, 'colsample_bytree': 0.9961119917279586, 'gamma': 1.3534442801155664, 'reg_alpha': 1.7753151586614375, 'reg_lambda': 4.850020522996403}. Best is trial 13 with value: -0.3207630287792213.\n",
      "[I 2025-06-09 14:27:50,113] Trial 16 finished with value: -0.35710583723014766 and parameters: {'n_estimators': 1604, 'max_depth': 9, 'learning_rate': 0.11575832813012782, 'subsample': 0.6755321387623748, 'colsample_bytree': 0.5100306529091838, 'gamma': 0.07661257170010399, 'reg_alpha': 3.5515972097430435, 'reg_lambda': 2.785387102265241}. Best is trial 13 with value: -0.3207630287792213.\n",
      "[I 2025-06-09 14:27:50,333] Trial 17 finished with value: -0.36025598520460006 and parameters: {'n_estimators': 1191, 'max_depth': 8, 'learning_rate': 0.028093850994125372, 'subsample': 0.9930642333480646, 'colsample_bytree': 0.6813344007451413, 'gamma': 1.3666682283704163, 'reg_alpha': 2.2266385482046607, 'reg_lambda': 4.181198691414786}. Best is trial 13 with value: -0.3207630287792213.\n",
      "[I 2025-06-09 14:27:50,481] Trial 18 finished with value: -0.32938243123466 and parameters: {'n_estimators': 670, 'max_depth': 9, 'learning_rate': 0.13787910808012308, 'subsample': 0.844876698770552, 'colsample_bytree': 0.920575784594075, 'gamma': 0.7219860495005697, 'reg_alpha': 1.4226402908903217, 'reg_lambda': 3.0855599053105442}. Best is trial 13 with value: -0.3207630287792213.\n",
      "[I 2025-06-09 14:27:51,034] Trial 19 finished with value: -0.3387578024454545 and parameters: {'n_estimators': 1656, 'max_depth': 7, 'learning_rate': 0.002173817083345231, 'subsample': 0.7014590299124991, 'colsample_bytree': 0.9516099645316706, 'gamma': 0.4933238514694799, 'reg_alpha': 3.0455110031810513, 'reg_lambda': 2.495011341672041}. Best is trial 13 with value: -0.3207630287792213.\n",
      "[I 2025-06-09 14:27:51,367] Trial 20 finished with value: -0.42024749447102394 and parameters: {'n_estimators': 1993, 'max_depth': 10, 'learning_rate': 0.03390329586380764, 'subsample': 0.627729447819054, 'colsample_bytree': 0.8720233679895243, 'gamma': 3.994688262569304, 'reg_alpha': 4.3315835499970605, 'reg_lambda': 4.147078062637018}. Best is trial 13 with value: -0.3207630287792213.\n",
      "[I 2025-06-09 14:27:51,620] Trial 21 finished with value: -0.3176696158694183 and parameters: {'n_estimators': 1470, 'max_depth': 10, 'learning_rate': 0.2806942932670569, 'subsample': 0.8393379180733082, 'colsample_bytree': 0.9959163936876324, 'gamma': 0.1828611320203195, 'reg_alpha': 2.0595049986809117, 'reg_lambda': 2.8808601154558304}. Best is trial 21 with value: -0.3176696158694183.\n",
      "[I 2025-06-09 14:27:51,891] Trial 22 finished with value: -0.3289193426202081 and parameters: {'n_estimators': 1523, 'max_depth': 9, 'learning_rate': 0.16893660363841811, 'subsample': 0.8432674655548118, 'colsample_bytree': 0.9552200631408069, 'gamma': 0.9549659163394868, 'reg_alpha': 1.3285278443157695, 'reg_lambda': 3.3301194769390334}. Best is trial 21 with value: -0.3176696158694183.\n",
      "[I 2025-06-09 14:27:52,104] Trial 23 finished with value: -0.3195028602417761 and parameters: {'n_estimators': 1184, 'max_depth': 10, 'learning_rate': 0.2882942788136442, 'subsample': 0.892805189964887, 'colsample_bytree': 0.8715756984246499, 'gamma': 0.2994340077658675, 'reg_alpha': 2.2232220366511646, 'reg_lambda': 2.7234790753535227}. Best is trial 21 with value: -0.3176696158694183.\n",
      "[I 2025-06-09 14:27:52,315] Trial 24 finished with value: -0.35029554568165544 and parameters: {'n_estimators': 1187, 'max_depth': 10, 'learning_rate': 0.26948047333977543, 'subsample': 0.8920856753509843, 'colsample_bytree': 0.8512037378297591, 'gamma': 1.7429465551782677, 'reg_alpha': 2.4216027158963813, 'reg_lambda': 2.52002935506866}. Best is trial 21 with value: -0.3176696158694183.\n",
      "[I 2025-06-09 14:27:52,469] Trial 25 finished with value: -0.3147071488933835 and parameters: {'n_estimators': 542, 'max_depth': 10, 'learning_rate': 0.06759519478597421, 'subsample': 0.9406759075167906, 'colsample_bytree': 0.8813104083201415, 'gamma': 0.15037034138784483, 'reg_alpha': 2.7506104941235288, 'reg_lambda': 3.959839882009687}. Best is trial 25 with value: -0.3147071488933835.\n",
      "[I 2025-06-09 14:27:52,599] Trial 26 finished with value: -0.39542553883644627 and parameters: {'n_estimators': 530, 'max_depth': 10, 'learning_rate': 0.07618655548851833, 'subsample': 0.9554083498298976, 'colsample_bytree': 0.7557500641873922, 'gamma': 2.6154514364102504, 'reg_alpha': 3.3985119768611765, 'reg_lambda': 4.12032208472519}. Best is trial 25 with value: -0.3147071488933835.\n",
      "[I 2025-06-09 14:27:52,739] Trial 27 finished with value: -0.3473884431484664 and parameters: {'n_estimators': 533, 'max_depth': 8, 'learning_rate': 0.04631794938682312, 'subsample': 0.9600393971540366, 'colsample_bytree': 0.8740432594747378, 'gamma': 1.069537125664516, 'reg_alpha': 2.7370240100945886, 'reg_lambda': 3.8611027441236963}. Best is trial 25 with value: -0.3147071488933835.\n",
      "[I 2025-06-09 14:27:52,961] Trial 28 finished with value: -0.3740582110236042 and parameters: {'n_estimators': 1106, 'max_depth': 10, 'learning_rate': 0.013222624470715772, 'subsample': 0.8935912493056084, 'colsample_bytree': 0.7299095184035896, 'gamma': 1.5678369663684344, 'reg_alpha': 3.886129783684486, 'reg_lambda': 2.6290146740604774}. Best is trial 25 with value: -0.3147071488933835.\n",
      "[I 2025-06-09 14:27:53,151] Trial 29 finished with value: -0.6308396887162879 and parameters: {'n_estimators': 449, 'max_depth': 7, 'learning_rate': 0.00012959005103850162, 'subsample': 0.7547159986831049, 'colsample_bytree': 0.5632355917459436, 'gamma': 0.2857594701381432, 'reg_alpha': 1.2858449197368529, 'reg_lambda': 2.246963479277891}. Best is trial 25 with value: -0.3147071488933835.\n",
      "[I 2025-06-09 14:27:53,343] Trial 30 finished with value: -0.33953498238424756 and parameters: {'n_estimators': 970, 'max_depth': 6, 'learning_rate': 0.16061638813633647, 'subsample': 0.9244174014123421, 'colsample_bytree': 0.9535883052746503, 'gamma': 0.6882889387483364, 'reg_alpha': 3.2389170467269155, 'reg_lambda': 4.915286381138519}. Best is trial 25 with value: -0.3147071488933835.\n",
      "[I 2025-06-09 14:27:53,597] Trial 31 finished with value: -0.33200950362488674 and parameters: {'n_estimators': 1333, 'max_depth': 9, 'learning_rate': 0.2193206363616198, 'subsample': 0.8605540734197321, 'colsample_bytree': 0.9463773774057793, 'gamma': 0.0036112494625983593, 'reg_alpha': 2.2322119429816922, 'reg_lambda': 3.344235258312598}. Best is trial 25 with value: -0.3147071488933835.\n",
      "[I 2025-06-09 14:27:53,875] Trial 32 finished with value: -0.32329843463747077 and parameters: {'n_estimators': 1253, 'max_depth': 10, 'learning_rate': 0.09699995306846966, 'subsample': 0.8019050392444551, 'colsample_bytree': 0.8947376758820665, 'gamma': 0.3361571971404185, 'reg_alpha': 2.164937253646628, 'reg_lambda': 2.097294393912353}. Best is trial 25 with value: -0.3147071488933835.\n",
      "[I 2025-06-09 14:27:54,111] Trial 33 finished with value: -0.3385332327552723 and parameters: {'n_estimators': 1097, 'max_depth': 9, 'learning_rate': 0.20221598699792814, 'subsample': 0.5164304942534861, 'colsample_bytree': 0.8426024218950536, 'gamma': 0.22992546333539993, 'reg_alpha': 2.6694934360475635, 'reg_lambda': 3.08699837340648}. Best is trial 25 with value: -0.3147071488933835.\n",
      "[I 2025-06-09 14:27:54,211] Trial 34 finished with value: -0.3438579680479837 and parameters: {'n_estimators': 161, 'max_depth': 10, 'learning_rate': 0.07796791707450841, 'subsample': 0.8684105381561495, 'colsample_bytree': 0.8870732381484171, 'gamma': 0.8805694232396636, 'reg_alpha': 2.689251433997955, 'reg_lambda': 4.491355700461475}. Best is trial 25 with value: -0.3147071488933835.\n"
     ]
    },
    {
     "name": "stdout",
     "output_type": "stream",
     "text": [
      "Best parameters: {'n_estimators': 542, 'max_depth': 10, 'learning_rate': 0.06759519478597421, 'subsample': 0.9406759075167906, 'colsample_bytree': 0.8813104083201415, 'gamma': 0.15037034138784483, 'reg_alpha': 2.7506104941235288, 'reg_lambda': 3.959839882009687}\n",
      "Best score (negative log_loss): -0.3147071488933835\n"
     ]
    }
   ],
   "source": [
    "# Create and run Optuna study\n",
    "study = optuna.create_study(direction='maximize')\n",
    "study.optimize(objective, n_trials=35)\n",
    "\n",
    "# Get best parameters\n",
    "best_params = study.best_params\n",
    "best_score = study.best_value\n",
    "\n",
    "print(\"Best parameters:\", best_params)\n",
    "print(\"Best score (negative log_loss):\", best_score)"
   ]
  },
  {
   "cell_type": "code",
   "execution_count": 99,
   "metadata": {
    "execution": {
     "iopub.execute_input": "2025-06-09T14:28:48.486802Z",
     "iopub.status.busy": "2025-06-09T14:28:48.486559Z",
     "iopub.status.idle": "2025-06-09T14:28:48.506293Z",
     "shell.execute_reply": "2025-06-09T14:28:48.505489Z",
     "shell.execute_reply.started": "2025-06-09T14:28:48.486787Z"
    },
    "trusted": true
   },
   "outputs": [
    {
     "data": {
      "text/html": [
       "<style>#sk-container-id-6 {color: black;background-color: white;}#sk-container-id-6 pre{padding: 0;}#sk-container-id-6 div.sk-toggleable {background-color: white;}#sk-container-id-6 label.sk-toggleable__label {cursor: pointer;display: block;width: 100%;margin-bottom: 0;padding: 0.3em;box-sizing: border-box;text-align: center;}#sk-container-id-6 label.sk-toggleable__label-arrow:before {content: \"▸\";float: left;margin-right: 0.25em;color: #696969;}#sk-container-id-6 label.sk-toggleable__label-arrow:hover:before {color: black;}#sk-container-id-6 div.sk-estimator:hover label.sk-toggleable__label-arrow:before {color: black;}#sk-container-id-6 div.sk-toggleable__content {max-height: 0;max-width: 0;overflow: hidden;text-align: left;background-color: #f0f8ff;}#sk-container-id-6 div.sk-toggleable__content pre {margin: 0.2em;color: black;border-radius: 0.25em;background-color: #f0f8ff;}#sk-container-id-6 input.sk-toggleable__control:checked~div.sk-toggleable__content {max-height: 200px;max-width: 100%;overflow: auto;}#sk-container-id-6 input.sk-toggleable__control:checked~label.sk-toggleable__label-arrow:before {content: \"▾\";}#sk-container-id-6 div.sk-estimator input.sk-toggleable__control:checked~label.sk-toggleable__label {background-color: #d4ebff;}#sk-container-id-6 div.sk-label input.sk-toggleable__control:checked~label.sk-toggleable__label {background-color: #d4ebff;}#sk-container-id-6 input.sk-hidden--visually {border: 0;clip: rect(1px 1px 1px 1px);clip: rect(1px, 1px, 1px, 1px);height: 1px;margin: -1px;overflow: hidden;padding: 0;position: absolute;width: 1px;}#sk-container-id-6 div.sk-estimator {font-family: monospace;background-color: #f0f8ff;border: 1px dotted black;border-radius: 0.25em;box-sizing: border-box;margin-bottom: 0.5em;}#sk-container-id-6 div.sk-estimator:hover {background-color: #d4ebff;}#sk-container-id-6 div.sk-parallel-item::after {content: \"\";width: 100%;border-bottom: 1px solid gray;flex-grow: 1;}#sk-container-id-6 div.sk-label:hover label.sk-toggleable__label {background-color: #d4ebff;}#sk-container-id-6 div.sk-serial::before {content: \"\";position: absolute;border-left: 1px solid gray;box-sizing: border-box;top: 0;bottom: 0;left: 50%;z-index: 0;}#sk-container-id-6 div.sk-serial {display: flex;flex-direction: column;align-items: center;background-color: white;padding-right: 0.2em;padding-left: 0.2em;position: relative;}#sk-container-id-6 div.sk-item {position: relative;z-index: 1;}#sk-container-id-6 div.sk-parallel {display: flex;align-items: stretch;justify-content: center;background-color: white;position: relative;}#sk-container-id-6 div.sk-item::before, #sk-container-id-6 div.sk-parallel-item::before {content: \"\";position: absolute;border-left: 1px solid gray;box-sizing: border-box;top: 0;bottom: 0;left: 50%;z-index: -1;}#sk-container-id-6 div.sk-parallel-item {display: flex;flex-direction: column;z-index: 1;position: relative;background-color: white;}#sk-container-id-6 div.sk-parallel-item:first-child::after {align-self: flex-end;width: 50%;}#sk-container-id-6 div.sk-parallel-item:last-child::after {align-self: flex-start;width: 50%;}#sk-container-id-6 div.sk-parallel-item:only-child::after {width: 0;}#sk-container-id-6 div.sk-dashed-wrapped {border: 1px dashed gray;margin: 0 0.4em 0.5em 0.4em;box-sizing: border-box;padding-bottom: 0.4em;background-color: white;}#sk-container-id-6 div.sk-label label {font-family: monospace;font-weight: bold;display: inline-block;line-height: 1.2em;}#sk-container-id-6 div.sk-label-container {text-align: center;}#sk-container-id-6 div.sk-container {/* jupyter's `normalize.less` sets `[hidden] { display: none; }` but bootstrap.min.css set `[hidden] { display: none !important; }` so we also need the `!important` here to be able to override the default hidden behavior on the sphinx rendered scikit-learn.org. See: https://github.com/scikit-learn/scikit-learn/issues/21755 */display: inline-block !important;position: relative;}#sk-container-id-6 div.sk-text-repr-fallback {display: none;}</style><div id=\"sk-container-id-6\" class=\"sk-top-container\"><div class=\"sk-text-repr-fallback\"><pre>Pipeline(steps=[(&#x27;preprocess&#x27;,\n",
       "                 ColumnTransformer(transformers=[(&#x27;num&#x27;, StandardScaler(),\n",
       "                                                  Index([&#x27;season&#x27;, &#x27;team1&#x27;, &#x27;team2&#x27;, &#x27;attack_strength_ratio&#x27;, &#x27;ucl_attack_ratio&#x27;,\n",
       "       &#x27;league_attack_ratio&#x27;, &#x27;defense_strength_ratio&#x27;, &#x27;ucl_defense_ratio&#x27;,\n",
       "       &#x27;league_defense_ratio&#x27;, &#x27;overall_form_ratio&#x27;, &#x27;ucl_form_ratio&#x27;,\n",
       "       &#x27;league_form_ratio&#x27;, &#x27;goal_diff_ratio&#x27;, &#x27;league_goal_diff_ratio...\n",
       "                               grow_policy=None, importance_type=None,\n",
       "                               interaction_constraints=None,\n",
       "                               learning_rate=0.06759519478597421, max_bin=None,\n",
       "                               max_cat_threshold=None, max_cat_to_onehot=None,\n",
       "                               max_delta_step=None, max_depth=10,\n",
       "                               max_leaves=None, min_child_weight=None,\n",
       "                               missing=nan, monotone_constraints=None,\n",
       "                               multi_strategy=None, n_estimators=542,\n",
       "                               n_jobs=None, num_parallel_tree=None,\n",
       "                               random_state=None, ...))])</pre><b>In a Jupyter environment, please rerun this cell to show the HTML representation or trust the notebook. <br />On GitHub, the HTML representation is unable to render, please try loading this page with nbviewer.org.</b></div><div class=\"sk-container\" hidden><div class=\"sk-item sk-dashed-wrapped\"><div class=\"sk-label-container\"><div class=\"sk-label sk-toggleable\"><input class=\"sk-toggleable__control sk-hidden--visually\" id=\"sk-estimator-id-20\" type=\"checkbox\" ><label for=\"sk-estimator-id-20\" class=\"sk-toggleable__label sk-toggleable__label-arrow\">Pipeline</label><div class=\"sk-toggleable__content\"><pre>Pipeline(steps=[(&#x27;preprocess&#x27;,\n",
       "                 ColumnTransformer(transformers=[(&#x27;num&#x27;, StandardScaler(),\n",
       "                                                  Index([&#x27;season&#x27;, &#x27;team1&#x27;, &#x27;team2&#x27;, &#x27;attack_strength_ratio&#x27;, &#x27;ucl_attack_ratio&#x27;,\n",
       "       &#x27;league_attack_ratio&#x27;, &#x27;defense_strength_ratio&#x27;, &#x27;ucl_defense_ratio&#x27;,\n",
       "       &#x27;league_defense_ratio&#x27;, &#x27;overall_form_ratio&#x27;, &#x27;ucl_form_ratio&#x27;,\n",
       "       &#x27;league_form_ratio&#x27;, &#x27;goal_diff_ratio&#x27;, &#x27;league_goal_diff_ratio...\n",
       "                               grow_policy=None, importance_type=None,\n",
       "                               interaction_constraints=None,\n",
       "                               learning_rate=0.06759519478597421, max_bin=None,\n",
       "                               max_cat_threshold=None, max_cat_to_onehot=None,\n",
       "                               max_delta_step=None, max_depth=10,\n",
       "                               max_leaves=None, min_child_weight=None,\n",
       "                               missing=nan, monotone_constraints=None,\n",
       "                               multi_strategy=None, n_estimators=542,\n",
       "                               n_jobs=None, num_parallel_tree=None,\n",
       "                               random_state=None, ...))])</pre></div></div></div><div class=\"sk-serial\"><div class=\"sk-item sk-dashed-wrapped\"><div class=\"sk-label-container\"><div class=\"sk-label sk-toggleable\"><input class=\"sk-toggleable__control sk-hidden--visually\" id=\"sk-estimator-id-21\" type=\"checkbox\" ><label for=\"sk-estimator-id-21\" class=\"sk-toggleable__label sk-toggleable__label-arrow\">preprocess: ColumnTransformer</label><div class=\"sk-toggleable__content\"><pre>ColumnTransformer(transformers=[(&#x27;num&#x27;, StandardScaler(),\n",
       "                                 Index([&#x27;season&#x27;, &#x27;team1&#x27;, &#x27;team2&#x27;, &#x27;attack_strength_ratio&#x27;, &#x27;ucl_attack_ratio&#x27;,\n",
       "       &#x27;league_attack_ratio&#x27;, &#x27;defense_strength_ratio&#x27;, &#x27;ucl_defense_ratio&#x27;,\n",
       "       &#x27;league_defense_ratio&#x27;, &#x27;overall_form_ratio&#x27;, &#x27;ucl_form_ratio&#x27;,\n",
       "       &#x27;league_form_ratio&#x27;, &#x27;goal_diff_ratio&#x27;, &#x27;league_goal_diff_ratio&#x27;,\n",
       "       &#x27;ucl_experience_diff&#x27;],\n",
       "      dtype=&#x27;object&#x27;))])</pre></div></div></div><div class=\"sk-parallel\"><div class=\"sk-parallel-item\"><div class=\"sk-item\"><div class=\"sk-label-container\"><div class=\"sk-label sk-toggleable\"><input class=\"sk-toggleable__control sk-hidden--visually\" id=\"sk-estimator-id-22\" type=\"checkbox\" ><label for=\"sk-estimator-id-22\" class=\"sk-toggleable__label sk-toggleable__label-arrow\">num</label><div class=\"sk-toggleable__content\"><pre>Index([&#x27;season&#x27;, &#x27;team1&#x27;, &#x27;team2&#x27;, &#x27;attack_strength_ratio&#x27;, &#x27;ucl_attack_ratio&#x27;,\n",
       "       &#x27;league_attack_ratio&#x27;, &#x27;defense_strength_ratio&#x27;, &#x27;ucl_defense_ratio&#x27;,\n",
       "       &#x27;league_defense_ratio&#x27;, &#x27;overall_form_ratio&#x27;, &#x27;ucl_form_ratio&#x27;,\n",
       "       &#x27;league_form_ratio&#x27;, &#x27;goal_diff_ratio&#x27;, &#x27;league_goal_diff_ratio&#x27;,\n",
       "       &#x27;ucl_experience_diff&#x27;],\n",
       "      dtype=&#x27;object&#x27;)</pre></div></div></div><div class=\"sk-serial\"><div class=\"sk-item\"><div class=\"sk-estimator sk-toggleable\"><input class=\"sk-toggleable__control sk-hidden--visually\" id=\"sk-estimator-id-23\" type=\"checkbox\" ><label for=\"sk-estimator-id-23\" class=\"sk-toggleable__label sk-toggleable__label-arrow\">StandardScaler</label><div class=\"sk-toggleable__content\"><pre>StandardScaler()</pre></div></div></div></div></div></div></div></div><div class=\"sk-item\"><div class=\"sk-estimator sk-toggleable\"><input class=\"sk-toggleable__control sk-hidden--visually\" id=\"sk-estimator-id-24\" type=\"checkbox\" ><label for=\"sk-estimator-id-24\" class=\"sk-toggleable__label sk-toggleable__label-arrow\">XGBClassifier</label><div class=\"sk-toggleable__content\"><pre>XGBClassifier(base_score=None, booster=None, callbacks=None,\n",
       "              colsample_bylevel=None, colsample_bynode=None,\n",
       "              colsample_bytree=0.8813104083201415, device=None,\n",
       "              early_stopping_rounds=None, enable_categorical=False,\n",
       "              eval_metric=None, feature_types=None, gamma=0.15037034138784483,\n",
       "              grow_policy=None, importance_type=None,\n",
       "              interaction_constraints=None, learning_rate=0.06759519478597421,\n",
       "              max_bin=None, max_cat_threshold=None, max_cat_to_onehot=None,\n",
       "              max_delta_step=None, max_depth=10, max_leaves=None,\n",
       "              min_child_weight=None, missing=nan, monotone_constraints=None,\n",
       "              multi_strategy=None, n_estimators=542, n_jobs=None,\n",
       "              num_parallel_tree=None, random_state=None, ...)</pre></div></div></div></div></div></div></div>"
      ],
      "text/plain": [
       "Pipeline(steps=[('preprocess',\n",
       "                 ColumnTransformer(transformers=[('num', StandardScaler(),\n",
       "                                                  Index(['season', 'team1', 'team2', 'attack_strength_ratio', 'ucl_attack_ratio',\n",
       "       'league_attack_ratio', 'defense_strength_ratio', 'ucl_defense_ratio',\n",
       "       'league_defense_ratio', 'overall_form_ratio', 'ucl_form_ratio',\n",
       "       'league_form_ratio', 'goal_diff_ratio', 'league_goal_diff_ratio...\n",
       "                               grow_policy=None, importance_type=None,\n",
       "                               interaction_constraints=None,\n",
       "                               learning_rate=0.06759519478597421, max_bin=None,\n",
       "                               max_cat_threshold=None, max_cat_to_onehot=None,\n",
       "                               max_delta_step=None, max_depth=10,\n",
       "                               max_leaves=None, min_child_weight=None,\n",
       "                               missing=nan, monotone_constraints=None,\n",
       "                               multi_strategy=None, n_estimators=542,\n",
       "                               n_jobs=None, num_parallel_tree=None,\n",
       "                               random_state=None, ...))])"
      ]
     },
     "execution_count": 99,
     "metadata": {},
     "output_type": "execute_result"
    }
   ],
   "source": [
    "# Correct parameter names for pipeline\n",
    "best_params_corrected = {f'regressor__{k}': v for k, v in best_params.items()}\n",
    "\n",
    "# Retrain with corrected parameters\n",
    "pipeline.set_params(**best_params_corrected)\n"
   ]
  },
  {
   "cell_type": "code",
   "execution_count": 121,
   "metadata": {
    "execution": {
     "iopub.execute_input": "2025-06-09T14:42:42.092447Z",
     "iopub.status.busy": "2025-06-09T14:42:42.092146Z",
     "iopub.status.idle": "2025-06-09T14:42:42.310476Z",
     "shell.execute_reply": "2025-06-09T14:42:42.309847Z",
     "shell.execute_reply.started": "2025-06-09T14:42:42.092429Z"
    },
    "trusted": true
   },
   "outputs": [
    {
     "data": {
      "text/html": [
       "<style>#sk-container-id-8 {color: black;background-color: white;}#sk-container-id-8 pre{padding: 0;}#sk-container-id-8 div.sk-toggleable {background-color: white;}#sk-container-id-8 label.sk-toggleable__label {cursor: pointer;display: block;width: 100%;margin-bottom: 0;padding: 0.3em;box-sizing: border-box;text-align: center;}#sk-container-id-8 label.sk-toggleable__label-arrow:before {content: \"▸\";float: left;margin-right: 0.25em;color: #696969;}#sk-container-id-8 label.sk-toggleable__label-arrow:hover:before {color: black;}#sk-container-id-8 div.sk-estimator:hover label.sk-toggleable__label-arrow:before {color: black;}#sk-container-id-8 div.sk-toggleable__content {max-height: 0;max-width: 0;overflow: hidden;text-align: left;background-color: #f0f8ff;}#sk-container-id-8 div.sk-toggleable__content pre {margin: 0.2em;color: black;border-radius: 0.25em;background-color: #f0f8ff;}#sk-container-id-8 input.sk-toggleable__control:checked~div.sk-toggleable__content {max-height: 200px;max-width: 100%;overflow: auto;}#sk-container-id-8 input.sk-toggleable__control:checked~label.sk-toggleable__label-arrow:before {content: \"▾\";}#sk-container-id-8 div.sk-estimator input.sk-toggleable__control:checked~label.sk-toggleable__label {background-color: #d4ebff;}#sk-container-id-8 div.sk-label input.sk-toggleable__control:checked~label.sk-toggleable__label {background-color: #d4ebff;}#sk-container-id-8 input.sk-hidden--visually {border: 0;clip: rect(1px 1px 1px 1px);clip: rect(1px, 1px, 1px, 1px);height: 1px;margin: -1px;overflow: hidden;padding: 0;position: absolute;width: 1px;}#sk-container-id-8 div.sk-estimator {font-family: monospace;background-color: #f0f8ff;border: 1px dotted black;border-radius: 0.25em;box-sizing: border-box;margin-bottom: 0.5em;}#sk-container-id-8 div.sk-estimator:hover {background-color: #d4ebff;}#sk-container-id-8 div.sk-parallel-item::after {content: \"\";width: 100%;border-bottom: 1px solid gray;flex-grow: 1;}#sk-container-id-8 div.sk-label:hover label.sk-toggleable__label {background-color: #d4ebff;}#sk-container-id-8 div.sk-serial::before {content: \"\";position: absolute;border-left: 1px solid gray;box-sizing: border-box;top: 0;bottom: 0;left: 50%;z-index: 0;}#sk-container-id-8 div.sk-serial {display: flex;flex-direction: column;align-items: center;background-color: white;padding-right: 0.2em;padding-left: 0.2em;position: relative;}#sk-container-id-8 div.sk-item {position: relative;z-index: 1;}#sk-container-id-8 div.sk-parallel {display: flex;align-items: stretch;justify-content: center;background-color: white;position: relative;}#sk-container-id-8 div.sk-item::before, #sk-container-id-8 div.sk-parallel-item::before {content: \"\";position: absolute;border-left: 1px solid gray;box-sizing: border-box;top: 0;bottom: 0;left: 50%;z-index: -1;}#sk-container-id-8 div.sk-parallel-item {display: flex;flex-direction: column;z-index: 1;position: relative;background-color: white;}#sk-container-id-8 div.sk-parallel-item:first-child::after {align-self: flex-end;width: 50%;}#sk-container-id-8 div.sk-parallel-item:last-child::after {align-self: flex-start;width: 50%;}#sk-container-id-8 div.sk-parallel-item:only-child::after {width: 0;}#sk-container-id-8 div.sk-dashed-wrapped {border: 1px dashed gray;margin: 0 0.4em 0.5em 0.4em;box-sizing: border-box;padding-bottom: 0.4em;background-color: white;}#sk-container-id-8 div.sk-label label {font-family: monospace;font-weight: bold;display: inline-block;line-height: 1.2em;}#sk-container-id-8 div.sk-label-container {text-align: center;}#sk-container-id-8 div.sk-container {/* jupyter's `normalize.less` sets `[hidden] { display: none; }` but bootstrap.min.css set `[hidden] { display: none !important; }` so we also need the `!important` here to be able to override the default hidden behavior on the sphinx rendered scikit-learn.org. See: https://github.com/scikit-learn/scikit-learn/issues/21755 */display: inline-block !important;position: relative;}#sk-container-id-8 div.sk-text-repr-fallback {display: none;}</style><div id=\"sk-container-id-8\" class=\"sk-top-container\"><div class=\"sk-text-repr-fallback\"><pre>Pipeline(steps=[(&#x27;preprocess&#x27;,\n",
       "                 ColumnTransformer(transformers=[(&#x27;num&#x27;, StandardScaler(),\n",
       "                                                  Index([&#x27;season&#x27;, &#x27;team1&#x27;, &#x27;team2&#x27;, &#x27;attack_strength_ratio&#x27;, &#x27;ucl_attack_ratio&#x27;,\n",
       "       &#x27;league_attack_ratio&#x27;, &#x27;defense_strength_ratio&#x27;, &#x27;ucl_defense_ratio&#x27;,\n",
       "       &#x27;league_defense_ratio&#x27;, &#x27;overall_form_ratio&#x27;, &#x27;ucl_form_ratio&#x27;,\n",
       "       &#x27;league_form_ratio&#x27;, &#x27;goal_diff_ratio&#x27;, &#x27;league_goal_diff_ratio...\n",
       "                               feature_types=None, gamma=None, grow_policy=None,\n",
       "                               importance_type=None,\n",
       "                               interaction_constraints=None, learning_rate=0.1,\n",
       "                               max_bin=None, max_cat_threshold=None,\n",
       "                               max_cat_to_onehot=None, max_delta_step=None,\n",
       "                               max_depth=4, max_leaves=None,\n",
       "                               min_child_weight=None, missing=nan,\n",
       "                               monotone_constraints=None, multi_strategy=None,\n",
       "                               n_estimators=1000, n_jobs=None,\n",
       "                               num_parallel_tree=None, random_state=None, ...))])</pre><b>In a Jupyter environment, please rerun this cell to show the HTML representation or trust the notebook. <br />On GitHub, the HTML representation is unable to render, please try loading this page with nbviewer.org.</b></div><div class=\"sk-container\" hidden><div class=\"sk-item sk-dashed-wrapped\"><div class=\"sk-label-container\"><div class=\"sk-label sk-toggleable\"><input class=\"sk-toggleable__control sk-hidden--visually\" id=\"sk-estimator-id-30\" type=\"checkbox\" ><label for=\"sk-estimator-id-30\" class=\"sk-toggleable__label sk-toggleable__label-arrow\">Pipeline</label><div class=\"sk-toggleable__content\"><pre>Pipeline(steps=[(&#x27;preprocess&#x27;,\n",
       "                 ColumnTransformer(transformers=[(&#x27;num&#x27;, StandardScaler(),\n",
       "                                                  Index([&#x27;season&#x27;, &#x27;team1&#x27;, &#x27;team2&#x27;, &#x27;attack_strength_ratio&#x27;, &#x27;ucl_attack_ratio&#x27;,\n",
       "       &#x27;league_attack_ratio&#x27;, &#x27;defense_strength_ratio&#x27;, &#x27;ucl_defense_ratio&#x27;,\n",
       "       &#x27;league_defense_ratio&#x27;, &#x27;overall_form_ratio&#x27;, &#x27;ucl_form_ratio&#x27;,\n",
       "       &#x27;league_form_ratio&#x27;, &#x27;goal_diff_ratio&#x27;, &#x27;league_goal_diff_ratio...\n",
       "                               feature_types=None, gamma=None, grow_policy=None,\n",
       "                               importance_type=None,\n",
       "                               interaction_constraints=None, learning_rate=0.1,\n",
       "                               max_bin=None, max_cat_threshold=None,\n",
       "                               max_cat_to_onehot=None, max_delta_step=None,\n",
       "                               max_depth=4, max_leaves=None,\n",
       "                               min_child_weight=None, missing=nan,\n",
       "                               monotone_constraints=None, multi_strategy=None,\n",
       "                               n_estimators=1000, n_jobs=None,\n",
       "                               num_parallel_tree=None, random_state=None, ...))])</pre></div></div></div><div class=\"sk-serial\"><div class=\"sk-item sk-dashed-wrapped\"><div class=\"sk-label-container\"><div class=\"sk-label sk-toggleable\"><input class=\"sk-toggleable__control sk-hidden--visually\" id=\"sk-estimator-id-31\" type=\"checkbox\" ><label for=\"sk-estimator-id-31\" class=\"sk-toggleable__label sk-toggleable__label-arrow\">preprocess: ColumnTransformer</label><div class=\"sk-toggleable__content\"><pre>ColumnTransformer(transformers=[(&#x27;num&#x27;, StandardScaler(),\n",
       "                                 Index([&#x27;season&#x27;, &#x27;team1&#x27;, &#x27;team2&#x27;, &#x27;attack_strength_ratio&#x27;, &#x27;ucl_attack_ratio&#x27;,\n",
       "       &#x27;league_attack_ratio&#x27;, &#x27;defense_strength_ratio&#x27;, &#x27;ucl_defense_ratio&#x27;,\n",
       "       &#x27;league_defense_ratio&#x27;, &#x27;overall_form_ratio&#x27;, &#x27;ucl_form_ratio&#x27;,\n",
       "       &#x27;league_form_ratio&#x27;, &#x27;goal_diff_ratio&#x27;, &#x27;league_goal_diff_ratio&#x27;,\n",
       "       &#x27;ucl_experience_diff&#x27;],\n",
       "      dtype=&#x27;object&#x27;))])</pre></div></div></div><div class=\"sk-parallel\"><div class=\"sk-parallel-item\"><div class=\"sk-item\"><div class=\"sk-label-container\"><div class=\"sk-label sk-toggleable\"><input class=\"sk-toggleable__control sk-hidden--visually\" id=\"sk-estimator-id-32\" type=\"checkbox\" ><label for=\"sk-estimator-id-32\" class=\"sk-toggleable__label sk-toggleable__label-arrow\">num</label><div class=\"sk-toggleable__content\"><pre>Index([&#x27;season&#x27;, &#x27;team1&#x27;, &#x27;team2&#x27;, &#x27;attack_strength_ratio&#x27;, &#x27;ucl_attack_ratio&#x27;,\n",
       "       &#x27;league_attack_ratio&#x27;, &#x27;defense_strength_ratio&#x27;, &#x27;ucl_defense_ratio&#x27;,\n",
       "       &#x27;league_defense_ratio&#x27;, &#x27;overall_form_ratio&#x27;, &#x27;ucl_form_ratio&#x27;,\n",
       "       &#x27;league_form_ratio&#x27;, &#x27;goal_diff_ratio&#x27;, &#x27;league_goal_diff_ratio&#x27;,\n",
       "       &#x27;ucl_experience_diff&#x27;],\n",
       "      dtype=&#x27;object&#x27;)</pre></div></div></div><div class=\"sk-serial\"><div class=\"sk-item\"><div class=\"sk-estimator sk-toggleable\"><input class=\"sk-toggleable__control sk-hidden--visually\" id=\"sk-estimator-id-33\" type=\"checkbox\" ><label for=\"sk-estimator-id-33\" class=\"sk-toggleable__label sk-toggleable__label-arrow\">StandardScaler</label><div class=\"sk-toggleable__content\"><pre>StandardScaler()</pre></div></div></div></div></div></div></div></div><div class=\"sk-item\"><div class=\"sk-estimator sk-toggleable\"><input class=\"sk-toggleable__control sk-hidden--visually\" id=\"sk-estimator-id-34\" type=\"checkbox\" ><label for=\"sk-estimator-id-34\" class=\"sk-toggleable__label sk-toggleable__label-arrow\">XGBClassifier</label><div class=\"sk-toggleable__content\"><pre>XGBClassifier(base_score=None, booster=None, callbacks=None,\n",
       "              colsample_bylevel=None, colsample_bynode=None,\n",
       "              colsample_bytree=None, device=None, early_stopping_rounds=None,\n",
       "              enable_categorical=False, eval_metric=None, feature_types=None,\n",
       "              gamma=None, grow_policy=None, importance_type=None,\n",
       "              interaction_constraints=None, learning_rate=0.1, max_bin=None,\n",
       "              max_cat_threshold=None, max_cat_to_onehot=None,\n",
       "              max_delta_step=None, max_depth=4, max_leaves=None,\n",
       "              min_child_weight=None, missing=nan, monotone_constraints=None,\n",
       "              multi_strategy=None, n_estimators=1000, n_jobs=None,\n",
       "              num_parallel_tree=None, random_state=None, ...)</pre></div></div></div></div></div></div></div>"
      ],
      "text/plain": [
       "Pipeline(steps=[('preprocess',\n",
       "                 ColumnTransformer(transformers=[('num', StandardScaler(),\n",
       "                                                  Index(['season', 'team1', 'team2', 'attack_strength_ratio', 'ucl_attack_ratio',\n",
       "       'league_attack_ratio', 'defense_strength_ratio', 'ucl_defense_ratio',\n",
       "       'league_defense_ratio', 'overall_form_ratio', 'ucl_form_ratio',\n",
       "       'league_form_ratio', 'goal_diff_ratio', 'league_goal_diff_ratio...\n",
       "                               feature_types=None, gamma=None, grow_policy=None,\n",
       "                               importance_type=None,\n",
       "                               interaction_constraints=None, learning_rate=0.1,\n",
       "                               max_bin=None, max_cat_threshold=None,\n",
       "                               max_cat_to_onehot=None, max_delta_step=None,\n",
       "                               max_depth=4, max_leaves=None,\n",
       "                               min_child_weight=None, missing=nan,\n",
       "                               monotone_constraints=None, multi_strategy=None,\n",
       "                               n_estimators=1000, n_jobs=None,\n",
       "                               num_parallel_tree=None, random_state=None, ...))])"
      ]
     },
     "execution_count": 121,
     "metadata": {},
     "output_type": "execute_result"
    }
   ],
   "source": [
    "pipeline.fit(X, y)"
   ]
  },
  {
   "cell_type": "code",
   "execution_count": 122,
   "metadata": {
    "execution": {
     "iopub.execute_input": "2025-06-09T14:42:51.142812Z",
     "iopub.status.busy": "2025-06-09T14:42:51.142592Z",
     "iopub.status.idle": "2025-06-09T14:42:51.147622Z",
     "shell.execute_reply": "2025-06-09T14:42:51.146828Z",
     "shell.execute_reply.started": "2025-06-09T14:42:51.142800Z"
    },
    "trusted": true
   },
   "outputs": [],
   "source": [
    "class WrappedModel(BaseEstimator):\n",
    "    def __init__(self, reg_model):\n",
    "        self.reg_model = reg_model\n",
    "\n",
    "    def predict(self, X):\n",
    "        probs = self.reg_model.predict_proba(X)\n",
    "        return (probs > 0.5).astype(int)[:, 1]\n",
    "\n",
    "clf_pipeline = WrappedModel(pipeline)"
   ]
  },
  {
   "cell_type": "code",
   "execution_count": 123,
   "metadata": {
    "execution": {
     "iopub.execute_input": "2025-06-09T14:42:55.533903Z",
     "iopub.status.busy": "2025-06-09T14:42:55.533016Z",
     "iopub.status.idle": "2025-06-09T14:42:55.543132Z",
     "shell.execute_reply": "2025-06-09T14:42:55.542262Z",
     "shell.execute_reply.started": "2025-06-09T14:42:55.533876Z"
    },
    "trusted": true
   },
   "outputs": [],
   "source": [
    "def calculate_team_stats_up_to_date(df, team, season, cutoff_date):\n",
    "    \"\"\"\n",
    "    Calculate team stats only for matches played up to the cutoff date\n",
    "    We do not need to do seperately for opponent and team, because of the nature of this dataset.\n",
    "    We donot even need to consider home and away games due to the nature of the league.\n",
    "    \"\"\"\n",
    "    df['Date'] = pd.to_datetime(df['Date'])\n",
    "    cutoff_date = pd.to_datetime(cutoff_date)\n",
    "    df['Team'] = df['Team'].str.strip()\n",
    "    team = team.upper()\n",
    "    df['season'] = df['season'].astype(str).str.strip()\n",
    "    df['season'] = df['season'].astype(int)  # Ensure Python int type\n",
    "    season = np.int64(season)\n",
    "    # Filter matches for this team and season, up to the cutoff date\n",
    "    team_matches = df[\n",
    "        (df['Team'] == team) & \n",
    "        (df['Date'] < cutoff_date) &\n",
    "        (df['season'].between(season - 2, season))\n",
    "    ].copy()\n",
    "    if team_matches.empty:\n",
    "        team = team.split()\n",
    "        for word in team:\n",
    "            team_matches = df[(df['Team'].str.contains(word.upper(), case=False, na=False)) &\n",
    "            (df['season'].between(season - 2, season)) & (df['Date'] < cutoff_date)]\n",
    "            if not team_matches.empty:\n",
    "                break\n",
    "    if team_matches.empty:\n",
    "        return None\n",
    "\n",
    "    matches_played = len(team_matches)\n",
    "    goals_scored = team_matches['Team_Score'].sum()\n",
    "    goals_conceded = team_matches['Opponent_Score'].sum()\n",
    "    points = team_matches['Team_Points'].sum()\n",
    "    \n",
    "    goals_per_game = goals_scored / matches_played\n",
    "    goals_conceded_per_game = goals_conceded / matches_played\n",
    "    points_per_game = points / matches_played\n",
    "    goal_difference = goals_scored - goals_conceded\n",
    "    goal_diff_per_game = goal_difference / matches_played\n",
    "    \n",
    "    return {\n",
    "        'matches_played': matches_played,\n",
    "        'goals_scored': goals_scored,\n",
    "        'goals_conceded': goals_conceded,\n",
    "        'points': points,\n",
    "        'goals_per_game': goals_per_game,\n",
    "        'goals_conceded_per_game': goals_conceded_per_game,\n",
    "        'points_per_game': points_per_game,\n",
    "        'goal_difference': goal_difference,\n",
    "        'goal_diff_per_game': goal_diff_per_game,\n",
    "        'attack_strength': goals_per_game,\n",
    "        'defense_strength': goals_conceded_per_game\n",
    "    }\n",
    "    \n",
    "    return calculated_stats"
   ]
  },
  {
   "cell_type": "code",
   "execution_count": 124,
   "metadata": {
    "execution": {
     "iopub.execute_input": "2025-06-09T14:42:57.363822Z",
     "iopub.status.busy": "2025-06-09T14:42:57.363556Z",
     "iopub.status.idle": "2025-06-09T14:42:57.375759Z",
     "shell.execute_reply": "2025-06-09T14:42:57.374925Z",
     "shell.execute_reply.started": "2025-06-09T14:42:57.363800Z"
    },
    "trusted": true
   },
   "outputs": [],
   "source": [
    "def create_match_features(team1, team2, season, match_date, original_match_data):\n",
    "    # Convert input team names to lowercase\n",
    "    team1 = team1.lower()\n",
    "    team2 = team2.lower()\n",
    "    ucl_matches = original_match_data[original_match_data['Competition'] == 'uefa-champions-league'].copy()\n",
    "    league_matches = original_match_data[original_match_data['Competition'] != 'uefa-champions-league'].copy()\n",
    "    # Calculate UCL stats up to match date\n",
    "    team1_ucl_stats = calculate_team_stats_up_to_date(ucl_matches, team1, season, match_date)\n",
    "    team2_ucl_stats = calculate_team_stats_up_to_date(ucl_matches, team2, season, match_date)\n",
    "\n",
    "    # Calculate League stats up to match date\n",
    "    team1_league_stats = calculate_team_stats_up_to_date(league_matches, team1, season, match_date)\n",
    "    team2_league_stats = calculate_team_stats_up_to_date(league_matches, team2, season, match_date)\n",
    "\n",
    "    if not team1_ucl_stats and not team2_ucl_stats:\n",
    "        # Use league stats only\n",
    "        if not team1_league_stats or not team2_league_stats:\n",
    "            return None\n",
    "\n",
    "        def safe_divide(numerator, denominator):\n",
    "            return numerator / denominator if denominator != 0 else np.nan\n",
    "    \n",
    "        features = {\n",
    "                # Use league stats as primary\n",
    "                'attack_strength_ratio': team1_league_stats['attack_strength'] / max(team2_league_stats['attack_strength'], 0.1),\n",
    "                'ucl_attack_ratio': 1.0,  # No UCL data\n",
    "                'league_attack_ratio': team1_league_stats['attack_strength'] / max(team2_league_stats['attack_strength'], 0.1),\n",
    "                \n",
    "                'defense_strength_ratio': max(team2_league_stats['defense_strength'], 0.1) / max(team1_league_stats['defense_strength'], 0.1),\n",
    "                'ucl_defense_ratio': 1.0,  # No UCL data\n",
    "                'league_defense_ratio': max(team2_league_stats['defense_strength'], 0.1) / max(team1_league_stats['defense_strength'], 0.1),\n",
    "                \n",
    "                'overall_form_ratio': team1_league_stats['points_per_game'] / max(team2_league_stats['points_per_game'], 0.1),\n",
    "                'ucl_form_ratio': 1.0,  # No UCL data\n",
    "                'league_form_ratio': team1_league_stats['points_per_game'] / max(team2_league_stats['points_per_game'], 0.1),\n",
    "                \n",
    "                'goal_diff_ratio': team1_league_stats['goal_diff_per_game'] - team2_league_stats['goal_diff_per_game'],\n",
    "                'league_goal_diff_ratio': team1_league_stats['goal_diff_per_game'] - team2_league_stats['goal_diff_per_game'],\n",
    "                'ucl_experience_diff': 0\n",
    "            }\n",
    "    else:\n",
    "        if not team1_ucl_stats:\n",
    "            team1_ucl_stats = {'attack_strength': 0, 'defense_strength': 1, 'points_per_game': 0, 'goal_diff_per_game': 0, 'matches_played': 0}\n",
    "        if not team2_ucl_stats:\n",
    "            team2_ucl_stats = {'attack_strength': 0, 'defense_strength': 1, 'points_per_game': 0, 'goal_diff_per_game': 0, 'matches_played': 0}\n",
    "        if not team1_league_stats:\n",
    "            team1_league_stats = {'attack_strength': 0, 'defense_strength': 1, 'points_per_game': 0, 'goal_diff_per_game': 0}\n",
    "        if not team2_league_stats:\n",
    "            team2_league_stats = {'attack_strength': 0, 'defense_strength': 1, 'points_per_game': 0, 'goal_diff_per_game': 0}\n",
    "        \n",
    "        # Calculate combined attack and defense strength (weighted)\n",
    "        team1_total_attack = 0.8 * team1_ucl_stats['attack_strength'] + 0.2 * team1_league_stats['attack_strength']\n",
    "        team2_total_attack = 0.8 * team2_ucl_stats['attack_strength'] + 0.2 * team2_league_stats['attack_strength']\n",
    "        \n",
    "        team1_total_defense = 0.8 * team1_ucl_stats['defense_strength'] + 0.2 * team1_league_stats['defense_strength']\n",
    "        team2_total_defense = 0.8 * team2_ucl_stats['defense_strength'] + 0.2 * team2_league_stats['defense_strength']\n",
    "        \n",
    "        team1_overall_form = 0.9 * team1_ucl_stats['points_per_game'] + 0.1 * team1_league_stats['points_per_game']\n",
    "        team2_overall_form = 0.9 * team2_ucl_stats['points_per_game'] + 0.1 * team2_league_stats['points_per_game']\n",
    "        \n",
    "        features = {\n",
    "            # Attack ratios\n",
    "            'attack_strength_ratio': team1_total_attack / max(team2_total_attack, 0.1),\n",
    "            'ucl_attack_ratio': team1_ucl_stats['attack_strength'] / max(team2_ucl_stats['attack_strength'], 0.1),\n",
    "            'league_attack_ratio': team1_league_stats['attack_strength'] / max(team2_league_stats['attack_strength'], 0.1),\n",
    "            \n",
    "            # Defense ratios (lower is better, so we flip)\n",
    "            'defense_strength_ratio': max(team2_total_defense, 0.1) / max(team1_total_defense, 0.1),\n",
    "            'ucl_defense_ratio': max(team2_ucl_stats['defense_strength'], 0.1) / max(team1_ucl_stats['defense_strength'], 0.1),\n",
    "            'league_defense_ratio': max(team2_league_stats['defense_strength'], 0.1) / max(team1_league_stats['defense_strength'], 0.1),\n",
    "            \n",
    "            # Form ratios\n",
    "            'overall_form_ratio': team1_overall_form / max(team2_overall_form, 0.1),\n",
    "            'ucl_form_ratio': team1_ucl_stats['points_per_game'] / max(team2_ucl_stats['points_per_game'], 0.1),\n",
    "            'league_form_ratio': team1_league_stats['points_per_game'] / max(team2_league_stats['points_per_game'], 0.1),\n",
    "            \n",
    "            # Goal difference ratios\n",
    "            'goal_diff_ratio': team1_ucl_stats['goal_diff_per_game'] - team2_ucl_stats['goal_diff_per_game'],\n",
    "            'league_goal_diff_ratio': team1_league_stats['goal_diff_per_game'] - team2_league_stats['goal_diff_per_game'],\n",
    "            \n",
    "            # Experience features\n",
    "            'ucl_experience_diff': team1_ucl_stats['matches_played'] - team2_ucl_stats['matches_played']\n",
    "        }\n",
    "\n",
    "    return features\n",
    "\n"
   ]
  },
  {
   "cell_type": "code",
   "execution_count": 48,
   "metadata": {
    "execution": {
     "iopub.execute_input": "2025-06-09T14:04:56.637868Z",
     "iopub.status.busy": "2025-06-09T14:04:56.636581Z",
     "iopub.status.idle": "2025-06-09T14:04:56.643796Z",
     "shell.execute_reply": "2025-06-09T14:04:56.642770Z",
     "shell.execute_reply.started": "2025-06-09T14:04:56.637832Z"
    },
    "trusted": true
   },
   "outputs": [],
   "source": []
  },
  {
   "cell_type": "code",
   "execution_count": null,
   "metadata": {
    "trusted": true
   },
   "outputs": [],
   "source": []
  },
  {
   "cell_type": "code",
   "execution_count": null,
   "metadata": {
    "trusted": true
   },
   "outputs": [],
   "source": []
  },
  {
   "cell_type": "code",
   "execution_count": 17,
   "metadata": {
    "execution": {
     "iopub.execute_input": "2025-06-09T13:45:19.436228Z",
     "iopub.status.busy": "2025-06-09T13:45:19.435994Z",
     "iopub.status.idle": "2025-06-09T13:45:19.442392Z",
     "shell.execute_reply": "2025-06-09T13:45:19.441721Z",
     "shell.execute_reply.started": "2025-06-09T13:45:19.436213Z"
    },
    "trusted": true
   },
   "outputs": [
    {
     "data": {
      "text/html": [
       "<style>#sk-container-id-2 {color: black;background-color: white;}#sk-container-id-2 pre{padding: 0;}#sk-container-id-2 div.sk-toggleable {background-color: white;}#sk-container-id-2 label.sk-toggleable__label {cursor: pointer;display: block;width: 100%;margin-bottom: 0;padding: 0.3em;box-sizing: border-box;text-align: center;}#sk-container-id-2 label.sk-toggleable__label-arrow:before {content: \"▸\";float: left;margin-right: 0.25em;color: #696969;}#sk-container-id-2 label.sk-toggleable__label-arrow:hover:before {color: black;}#sk-container-id-2 div.sk-estimator:hover label.sk-toggleable__label-arrow:before {color: black;}#sk-container-id-2 div.sk-toggleable__content {max-height: 0;max-width: 0;overflow: hidden;text-align: left;background-color: #f0f8ff;}#sk-container-id-2 div.sk-toggleable__content pre {margin: 0.2em;color: black;border-radius: 0.25em;background-color: #f0f8ff;}#sk-container-id-2 input.sk-toggleable__control:checked~div.sk-toggleable__content {max-height: 200px;max-width: 100%;overflow: auto;}#sk-container-id-2 input.sk-toggleable__control:checked~label.sk-toggleable__label-arrow:before {content: \"▾\";}#sk-container-id-2 div.sk-estimator input.sk-toggleable__control:checked~label.sk-toggleable__label {background-color: #d4ebff;}#sk-container-id-2 div.sk-label input.sk-toggleable__control:checked~label.sk-toggleable__label {background-color: #d4ebff;}#sk-container-id-2 input.sk-hidden--visually {border: 0;clip: rect(1px 1px 1px 1px);clip: rect(1px, 1px, 1px, 1px);height: 1px;margin: -1px;overflow: hidden;padding: 0;position: absolute;width: 1px;}#sk-container-id-2 div.sk-estimator {font-family: monospace;background-color: #f0f8ff;border: 1px dotted black;border-radius: 0.25em;box-sizing: border-box;margin-bottom: 0.5em;}#sk-container-id-2 div.sk-estimator:hover {background-color: #d4ebff;}#sk-container-id-2 div.sk-parallel-item::after {content: \"\";width: 100%;border-bottom: 1px solid gray;flex-grow: 1;}#sk-container-id-2 div.sk-label:hover label.sk-toggleable__label {background-color: #d4ebff;}#sk-container-id-2 div.sk-serial::before {content: \"\";position: absolute;border-left: 1px solid gray;box-sizing: border-box;top: 0;bottom: 0;left: 50%;z-index: 0;}#sk-container-id-2 div.sk-serial {display: flex;flex-direction: column;align-items: center;background-color: white;padding-right: 0.2em;padding-left: 0.2em;position: relative;}#sk-container-id-2 div.sk-item {position: relative;z-index: 1;}#sk-container-id-2 div.sk-parallel {display: flex;align-items: stretch;justify-content: center;background-color: white;position: relative;}#sk-container-id-2 div.sk-item::before, #sk-container-id-2 div.sk-parallel-item::before {content: \"\";position: absolute;border-left: 1px solid gray;box-sizing: border-box;top: 0;bottom: 0;left: 50%;z-index: -1;}#sk-container-id-2 div.sk-parallel-item {display: flex;flex-direction: column;z-index: 1;position: relative;background-color: white;}#sk-container-id-2 div.sk-parallel-item:first-child::after {align-self: flex-end;width: 50%;}#sk-container-id-2 div.sk-parallel-item:last-child::after {align-self: flex-start;width: 50%;}#sk-container-id-2 div.sk-parallel-item:only-child::after {width: 0;}#sk-container-id-2 div.sk-dashed-wrapped {border: 1px dashed gray;margin: 0 0.4em 0.5em 0.4em;box-sizing: border-box;padding-bottom: 0.4em;background-color: white;}#sk-container-id-2 div.sk-label label {font-family: monospace;font-weight: bold;display: inline-block;line-height: 1.2em;}#sk-container-id-2 div.sk-label-container {text-align: center;}#sk-container-id-2 div.sk-container {/* jupyter's `normalize.less` sets `[hidden] { display: none; }` but bootstrap.min.css set `[hidden] { display: none !important; }` so we also need the `!important` here to be able to override the default hidden behavior on the sphinx rendered scikit-learn.org. See: https://github.com/scikit-learn/scikit-learn/issues/21755 */display: inline-block !important;position: relative;}#sk-container-id-2 div.sk-text-repr-fallback {display: none;}</style><div id=\"sk-container-id-2\" class=\"sk-top-container\"><div class=\"sk-text-repr-fallback\"><pre>StandardScaler()</pre><b>In a Jupyter environment, please rerun this cell to show the HTML representation or trust the notebook. <br />On GitHub, the HTML representation is unable to render, please try loading this page with nbviewer.org.</b></div><div class=\"sk-container\" hidden><div class=\"sk-item\"><div class=\"sk-estimator sk-toggleable\"><input class=\"sk-toggleable__control sk-hidden--visually\" id=\"sk-estimator-id-6\" type=\"checkbox\" checked><label for=\"sk-estimator-id-6\" class=\"sk-toggleable__label sk-toggleable__label-arrow\">StandardScaler</label><div class=\"sk-toggleable__content\"><pre>StandardScaler()</pre></div></div></div></div></div>"
      ],
      "text/plain": [
       "StandardScaler()"
      ]
     },
     "execution_count": 17,
     "metadata": {},
     "output_type": "execute_result"
    }
   ],
   "source": []
  },
  {
   "cell_type": "code",
   "execution_count": 125,
   "metadata": {
    "execution": {
     "iopub.execute_input": "2025-06-09T14:43:02.702889Z",
     "iopub.status.busy": "2025-06-09T14:43:02.702663Z",
     "iopub.status.idle": "2025-06-09T14:43:02.708687Z",
     "shell.execute_reply": "2025-06-09T14:43:02.707806Z",
     "shell.execute_reply.started": "2025-06-09T14:43:02.702873Z"
    },
    "trusted": true
   },
   "outputs": [],
   "source": [
    "def add_match_features(fd, original_df):\n",
    "    # Original_df has all the matches historically basically the EU Soccer data.\n",
    "    feature_columns =  ['attack_strength_ratio', 'ucl_attack_ratio', 'league_attack_ratio',\n",
    "                        'defense_strength_ratio', 'ucl_defense_ratio', 'league_defense_ratio', \n",
    "                        'overall_form_ratio', 'ucl_form_ratio', 'league_form_ratio',\n",
    "                        'goal_diff_ratio', 'league_goal_diff_ratio', 'ucl_experience_diff']\n",
    "\n",
    "    \n",
    "\n",
    "    for col in feature_columns:\n",
    "        fd[col] = None\n",
    "    # Original_df is required when we are going to be using rolling stats.\n",
    "    fd['date'] = pd.to_datetime(fd['date'])\n",
    "    original_df['Date'] = pd.to_datetime(original_df['Date'], dayfirst=True)\n",
    "    for idx, row in fd.iterrows():\n",
    "        features = create_match_features(\n",
    "            row['team1'], \n",
    "            row['team2'], \n",
    "            row['season'], \n",
    "            row['date'],  # Pass the match date\n",
    "            original_df\n",
    "        )\n",
    "\n",
    "        if features:\n",
    "            for feature_name, feature_value in features.items():\n",
    "                fd.at[idx, feature_name] = feature_value\n",
    "        else:\n",
    "            print(f\"Warning: Could not calculate features for {row['team1']} vs {row['team2']} in {row['season']}\")\n",
    "\n",
    "    #  # # Add Elo ratings for team1 and team2\n",
    "    fd['elo_team1'] = fd.apply(lambda x: get_elo(x['team1'], x['date']), axis=1)\n",
    "    fd['elo_team2'] = fd.apply(lambda x: get_elo(x['team2'], x['date']), axis=1)\n",
    "    fd['elo_ratio'] = np.where(\n",
    "    fd[['elo_team1', 'elo_team2']].notna().all(axis=1),\n",
    "    fd['elo_team1'] / fd['elo_team2'],\n",
    "    np.nan\n",
    "    )\n",
    "    fd.drop(columns=['elo_team1','elo_team2'], inplace=True)\n",
    "    # fd[features_to_impute] = imputer.transform(fd[features_to_impute])\n",
    "        \n",
    "\n",
    "    return fd"
   ]
  },
  {
   "cell_type": "code",
   "execution_count": 76,
   "metadata": {
    "execution": {
     "iopub.execute_input": "2025-06-09T14:17:57.467023Z",
     "iopub.status.busy": "2025-06-09T14:17:57.466713Z",
     "iopub.status.idle": "2025-06-09T14:17:57.473136Z",
     "shell.execute_reply": "2025-06-09T14:17:57.472375Z",
     "shell.execute_reply.started": "2025-06-09T14:17:57.467000Z"
    },
    "trusted": true
   },
   "outputs": [],
   "source": [
    "# Map to ClubElo URL format (adjust as needed, check on clubelo.com)\n",
    "elo_url_map = {\n",
    "    'ajax': 'Ajax',\n",
    "    'apoel': 'APOEL',\n",
    "    'arsenal': 'Arsenal',\n",
    "    'atletico madrid': 'Atletico',\n",
    "    'barcelona': 'Barcelona',\n",
    "    'basel': 'Basel',\n",
    "    'bayer leverkusen': 'Leverkusen',\n",
    "    'bayern munich': 'Bayern',\n",
    "    'benfica': 'Benfica',\n",
    "    'bordeaux': 'Bordeaux',\n",
    "    'borussia dortmund': 'Dortmund',\n",
    "    'celtic': 'Celtic',\n",
    "    'chelsea': 'Chelsea',\n",
    "    'copenhagen': 'Copenhagen',\n",
    "    'cska moscow': 'CSKAMoskva',\n",
    "    'dynamo kyiv': 'DynamoKyiv',\n",
    "    'fenerbahçe': 'Fenerbahce',  # Note: remove accents\n",
    "    'fiorentina': 'Fiorentina',\n",
    "    'galatasaray': 'Galatasaray',\n",
    "    'gent': 'Gent',\n",
    "    'inter': 'Inter',\n",
    "    'juventus': 'Juventus',\n",
    "    'leicester city': 'Leicester',\n",
    "    'lille': 'Lille',\n",
    "    'liverpool': 'Liverpool',\n",
    "    'lyon': 'Lyon',\n",
    "    'malaga': 'Malaga',\n",
    "    'manchester city': 'ManCity',\n",
    "    'manchester united': 'ManUnited',\n",
    "    'marseille': 'Marseille',\n",
    "    'milan': 'Milan',\n",
    "    'monaco': 'Monaco',\n",
    "    'napoli': 'Napoli',\n",
    "    'olympiacos': 'Olympiacos',\n",
    "    'panathinaikos': 'Panathinaikos',\n",
    "    'paris saint-germain': 'ParisSG',\n",
    "    'porto': 'Porto',\n",
    "    'psv eindhoven': 'PSV',\n",
    "    'rangers': 'Rangers',\n",
    "    'real madrid': 'RealMadrid',\n",
    "    'roma': 'Roma',\n",
    "    'schalke 04': 'Schalke',\n",
    "    'sevilla': 'Sevilla',\n",
    "    'shakhtar donetsk': 'Shakhtar',\n",
    "    'sporting cp': 'sporting',\n",
    "    'stuttgart': 'Stuttgart',\n",
    "    'tottenham hotspur': 'Tottenham',\n",
    "    'valencia': 'Valencia',\n",
    "    'villarreal': 'Villarreal',\n",
    "    'werder bremen': 'werder',\n",
    "    'wolfsburg': 'Wolfsburg',\n",
    "    'zenit saint petersburg': 'Zenit'\n",
    "}"
   ]
  },
  {
   "cell_type": "code",
   "execution_count": 77,
   "metadata": {
    "execution": {
     "iopub.execute_input": "2025-06-09T14:17:59.386661Z",
     "iopub.status.busy": "2025-06-09T14:17:59.386413Z",
     "iopub.status.idle": "2025-06-09T14:17:59.931432Z",
     "shell.execute_reply": "2025-06-09T14:17:59.930454Z",
     "shell.execute_reply.started": "2025-06-09T14:17:59.386645Z"
    },
    "trusted": true
   },
   "outputs": [],
   "source": [
    "import glob\n",
    "elo_dict = {}\n",
    "elo_dir = '/kaggle/input/elo-scores/ELO_Ratings'\n",
    "\n",
    "for filepath in glob.glob(f\"{elo_dir}/*.csv\"):\n",
    "    team = filepath.split('/')[-1].replace('.csv', '').lower()\n",
    "    elo_df = pd.read_csv(filepath)\n",
    "    elo_df['From'] = pd.to_datetime(elo_df['From'])\n",
    "    elo_df['To'] = pd.to_datetime(elo_df['To'])\n",
    "    elo_dict[team] = elo_df"
   ]
  },
  {
   "cell_type": "code",
   "execution_count": 78,
   "metadata": {
    "execution": {
     "iopub.execute_input": "2025-06-09T14:18:02.055645Z",
     "iopub.status.busy": "2025-06-09T14:18:02.054611Z",
     "iopub.status.idle": "2025-06-09T14:18:02.060029Z",
     "shell.execute_reply": "2025-06-09T14:18:02.059335Z",
     "shell.execute_reply.started": "2025-06-09T14:18:02.055613Z"
    },
    "trusted": true
   },
   "outputs": [],
   "source": [
    "def get_elo(team, date):\n",
    "    if team.lower() not in elo_url_map:\n",
    "        return None\n",
    "    elo_df = elo_dict[elo_url_map[team.lower()].lower()]\n",
    "    mask = (elo_df['From'] <= date) & (elo_df['To'] >= date)\n",
    "    if mask.sum() == 0:\n",
    "        # If no exact match, take the most recent before date\n",
    "        mask = elo_df['From'] <= date\n",
    "        if mask.sum() == 0:\n",
    "            return None\n",
    "        return elo_df[mask].iloc[-1]['Elo']\n",
    "    else:\n",
    "        return elo_df[mask].iloc[0]['Elo']"
   ]
  },
  {
   "cell_type": "code",
   "execution_count": 126,
   "metadata": {
    "execution": {
     "iopub.execute_input": "2025-06-09T14:43:08.051391Z",
     "iopub.status.busy": "2025-06-09T14:43:08.051119Z",
     "iopub.status.idle": "2025-06-09T14:43:08.163615Z",
     "shell.execute_reply": "2025-06-09T14:43:08.163002Z",
     "shell.execute_reply.started": "2025-06-09T14:43:08.051375Z"
    },
    "trusted": true
   },
   "outputs": [],
   "source": [
    "dfData = pd.read_csv(\"/kaggle/input/european-soccer-data/Full_Dataset.csv\")"
   ]
  },
  {
   "cell_type": "code",
   "execution_count": 86,
   "metadata": {
    "execution": {
     "iopub.execute_input": "2025-06-09T11:26:00.701730Z",
     "iopub.status.busy": "2025-06-09T11:26:00.701425Z",
     "iopub.status.idle": "2025-06-09T11:26:00.710460Z",
     "shell.execute_reply": "2025-06-09T11:26:00.708357Z",
     "shell.execute_reply.started": "2025-06-09T11:26:00.701709Z"
    },
    "trusted": true
   },
   "outputs": [],
   "source": []
  },
  {
   "cell_type": "code",
   "execution_count": 127,
   "metadata": {
    "execution": {
     "iopub.execute_input": "2025-06-09T14:43:09.931474Z",
     "iopub.status.busy": "2025-06-09T14:43:09.931173Z",
     "iopub.status.idle": "2025-06-09T14:43:09.934854Z",
     "shell.execute_reply": "2025-06-09T14:43:09.934348Z",
     "shell.execute_reply.started": "2025-06-09T14:43:09.931458Z"
    },
    "trusted": true
   },
   "outputs": [],
   "source": [
    "def create_ucl_testing_dataframe(fd):\n",
    "    fd = add_match_features(fd, dfData.copy())\n",
    "    return fd"
   ]
  },
  {
   "cell_type": "code",
   "execution_count": 85,
   "metadata": {
    "execution": {
     "iopub.execute_input": "2025-06-09T11:25:57.033088Z",
     "iopub.status.busy": "2025-06-09T11:25:57.032144Z",
     "iopub.status.idle": "2025-06-09T11:25:57.038392Z",
     "shell.execute_reply": "2025-06-09T11:25:57.037339Z",
     "shell.execute_reply.started": "2025-06-09T11:25:57.033051Z"
    },
    "trusted": true
   },
   "outputs": [],
   "source": []
  },
  {
   "cell_type": "code",
   "execution_count": 128,
   "metadata": {
    "execution": {
     "iopub.execute_input": "2025-06-09T14:43:13.532629Z",
     "iopub.status.busy": "2025-06-09T14:43:13.532377Z",
     "iopub.status.idle": "2025-06-09T14:43:13.539402Z",
     "shell.execute_reply": "2025-06-09T14:43:13.538708Z",
     "shell.execute_reply.started": "2025-06-09T14:43:13.532606Z"
    },
    "trusted": true
   },
   "outputs": [],
   "source": [
    "def predict_winner(match, season, _round):\n",
    "    global last_index\n",
    "    row = {\n",
    "        \"season\":season,\n",
    "        \"round\": _round,\n",
    "        \"team1\": match[\"team_1\"],\n",
    "        \"team2\": match[\"team_2\"],\n",
    "        \"date\": match[\"date\"]\n",
    "    }\n",
    "    \n",
    "    for col in X.columns:\n",
    "        if col not in row:\n",
    "            row[col] = 0\n",
    "    row_df = pd.DataFrame([row])[X.columns]\n",
    "    row_df['team1'] = row_df['team1'].replace('internazionale', 'inter')\n",
    "    row_df['team2'] = row_df['team2'].replace('internazionale', 'inter')\n",
    "    row_df['date'] = match['date']\n",
    "    if 'date' in row_df.columns and not row_df['date'].isna().all():\n",
    "        try:\n",
    "            row_df['date'] = pd.to_datetime(row_df['date'], dayfirst=False)\n",
    "        except:\n",
    "            pass\n",
    "    row_df = create_ucl_testing_dataframe(row_df)\n",
    "\n",
    "    \n",
    "\n",
    "    \n",
    "    \n",
    "    if match[\"team_1\"].lower() in team_encoder.classes_:\n",
    "        row_df['team1'] = team_encoder.transform([match[\"team_1\"].lower()])[0]\n",
    "    else:\n",
    "    # Add new team, refit encoder\n",
    "        row_df['team1'] = last_index+1\n",
    "        last_index += 1\n",
    "        \n",
    "    if match[\"team_2\"].lower() in team_encoder.classes_:\n",
    "        row_df['team2'] = team_encoder.transform([match[\"team_2\"].lower()])[0]\n",
    "    else:\n",
    "    # Add new team, refit encoder\n",
    "        row_df['team2'] = last_index+1\n",
    "        last_index += 1\n",
    "        \n",
    "    result = clf_pipeline.predict(row_df)[0]\n",
    "    return match['team_1'] if result == 1 else match['team_2']"
   ]
  },
  {
   "cell_type": "code",
   "execution_count": 129,
   "metadata": {
    "execution": {
     "iopub.execute_input": "2025-06-09T14:43:17.332087Z",
     "iopub.status.busy": "2025-06-09T14:43:17.331833Z",
     "iopub.status.idle": "2025-06-09T14:43:17.336330Z",
     "shell.execute_reply": "2025-06-09T14:43:17.335682Z",
     "shell.execute_reply.started": "2025-06-09T14:43:17.332071Z"
    },
    "trusted": true
   },
   "outputs": [],
   "source": [
    "def process_round_16(matches, season):\n",
    "    winners = {}\n",
    "    for match in matches:\n",
    "        teamA = match[\"team_1\"]\n",
    "        teamB = match[\"team_2\"]\n",
    "        winner = predict_winner(match, season, \"Round Of 16\")\n",
    "        key = f\"Winner of {teamA} vs {teamB}\"\n",
    "        winners[key] = winner\n",
    "        match[\"winner\"] = winner\n",
    "    return winners"
   ]
  },
  {
   "cell_type": "code",
   "execution_count": 130,
   "metadata": {
    "execution": {
     "iopub.execute_input": "2025-06-09T14:43:18.411651Z",
     "iopub.status.busy": "2025-06-09T14:43:18.411410Z",
     "iopub.status.idle": "2025-06-09T14:43:18.415697Z",
     "shell.execute_reply": "2025-06-09T14:43:18.415115Z",
     "shell.execute_reply.started": "2025-06-09T14:43:18.411635Z"
    },
    "trusted": true
   },
   "outputs": [],
   "source": [
    "def process_round_qf(matches, season):\n",
    "    winners = {}\n",
    "    count = 1\n",
    "    for match in matches:\n",
    "        teamA = match[\"team_1\"]\n",
    "        teamB = match[\"team_2\"]\n",
    "        winner = predict_winner(match, season, \"Quarter Finals\")\n",
    "        key = f\"Winner of QF{count}\"\n",
    "        count += 1\n",
    "        winners[key] = winner\n",
    "        match[\"winner\"] = winner\n",
    "    return winners"
   ]
  },
  {
   "cell_type": "code",
   "execution_count": 131,
   "metadata": {
    "execution": {
     "iopub.execute_input": "2025-06-09T14:43:19.671886Z",
     "iopub.status.busy": "2025-06-09T14:43:19.671622Z",
     "iopub.status.idle": "2025-06-09T14:43:19.676212Z",
     "shell.execute_reply": "2025-06-09T14:43:19.675561Z",
     "shell.execute_reply.started": "2025-06-09T14:43:19.671869Z"
    },
    "trusted": true
   },
   "outputs": [],
   "source": [
    "def process_round_sf(matches, season):\n",
    "    winners = {}\n",
    "    count = 1\n",
    "    for match in matches:\n",
    "        teamA = match[\"team_1\"]\n",
    "        teamB = match[\"team_2\"]\n",
    "        winner = predict_winner(match, season, \"Semi Finals\")\n",
    "        key = f\"Winner of SF{count}\"\n",
    "        count += 1\n",
    "        winners[key] = winner\n",
    "        match[\"winner\"] = winner\n",
    "    return winners"
   ]
  },
  {
   "cell_type": "code",
   "execution_count": 132,
   "metadata": {
    "execution": {
     "iopub.execute_input": "2025-06-09T14:43:21.291972Z",
     "iopub.status.busy": "2025-06-09T14:43:21.291239Z",
     "iopub.status.idle": "2025-06-09T14:43:21.295435Z",
     "shell.execute_reply": "2025-06-09T14:43:21.294751Z",
     "shell.execute_reply.started": "2025-06-09T14:43:21.291952Z"
    },
    "trusted": true
   },
   "outputs": [],
   "source": [
    "def resolve_matches(matches, winners):\n",
    "    for match in matches:\n",
    "        for side in [\"team_1\", \"team_2\"]:\n",
    "            if match[side] in winners:\n",
    "                match[side] = winners[match[side]]"
   ]
  },
  {
   "cell_type": "code",
   "execution_count": 133,
   "metadata": {
    "execution": {
     "iopub.execute_input": "2025-06-09T14:43:22.671245Z",
     "iopub.status.busy": "2025-06-09T14:43:22.671016Z",
     "iopub.status.idle": "2025-06-09T14:43:22.679441Z",
     "shell.execute_reply": "2025-06-09T14:43:22.678768Z",
     "shell.execute_reply.started": "2025-06-09T14:43:22.671231Z"
    },
    "trusted": true
   },
   "outputs": [],
   "source": [
    "import json\n",
    "import pandas as pd\n",
    "with open('/kaggle/input/ucl-datathon/test_matchups (1).json') as file:\n",
    "    data = json.load(file)\n",
    "\n",
    "def run_tournament(json_data):\n",
    "    for season, rounds in json_data.items():\n",
    "        print(f\"Processing season {season}\")\n",
    "        winners = process_round_16(rounds['round_of_16_matchups'], int(season[:4]))\n",
    "        print(winners)\n",
    "        resolve_matches(rounds['quarter_finals_matchups'], winners)\n",
    "\n",
    "        winners = process_round_qf(rounds['quarter_finals_matchups'], int(season[:4]))\n",
    "        print(winners)\n",
    "        resolve_matches(rounds['semi_finals_matchups'], winners)\n",
    "        \n",
    "        winners = process_round_sf(rounds['semi_finals_matchups'], int(season[:4]))\n",
    "        print(winners)\n",
    "        \n",
    "        final = rounds['final_matchup']\n",
    "        for side in [\"team_1\", \"team_2\"]:\n",
    "            if final[side] in winners:\n",
    "                final[side] = winners[final[side]]\n",
    "        winner = predict_winner(final, int(season[:4]), \"Final\")\n",
    "        print(f\"Final winner for {season}: {winner}\\n\")\n",
    "        final[\"winner\"] = winner\n",
    "        \n",
    "    output_file = \"/kaggle/working/exported_data.json\"\n",
    "    # Exporting JSON data to a file\n",
    "    with open(output_file, \"w\") as f:\n",
    "        json.dump(json_data, f, indent=4)"
   ]
  },
  {
   "cell_type": "code",
   "execution_count": 134,
   "metadata": {
    "execution": {
     "iopub.execute_input": "2025-06-09T14:45:48.572271Z",
     "iopub.status.busy": "2025-06-09T14:45:48.571583Z",
     "iopub.status.idle": "2025-06-09T14:46:13.826115Z",
     "shell.execute_reply": "2025-06-09T14:46:13.825458Z",
     "shell.execute_reply.started": "2025-06-09T14:45:48.572252Z"
    },
    "trusted": true
   },
   "outputs": [
    {
     "name": "stdout",
     "output_type": "stream",
     "text": [
      "Processing season 2017-18\n",
      "{'Winner of Juventus vs Tottenham Hotspur': 'Juventus', 'Winner of Basel vs Manchester City': 'Manchester City', 'Winner of Porto vs Liverpool': 'Porto', 'Winner of Sevilla vs Manchester United': 'Manchester United', 'Winner of Real Madrid vs Paris Saint-Germain': 'Real Madrid', 'Winner of Shakhtar Donetsk vs Roma': 'Roma', 'Winner of Chelsea vs Barcelona': 'Barcelona', 'Winner of Bayern Munich vs Besiktas': 'Bayern Munich'}\n",
      "{'Winner of QF1': 'Real Madrid', 'Winner of QF2': 'Manchester City', 'Winner of QF3': 'Manchester United', 'Winner of QF4': 'Barcelona'}\n",
      "{'Winner of SF1': 'Barcelona', 'Winner of SF2': 'Manchester United'}\n",
      "Final winner for 2017-18: Manchester United\n",
      "\n",
      "Processing season 2018-19\n",
      "{'Winner of Roma vs Porto': 'Porto', 'Winner of Manchester United vs Paris Saint-Germain': 'Manchester United', 'Winner of Tottenham Hotspur vs Borussia Dortmund': 'Borussia Dortmund', 'Winner of Ajax vs Real Madrid': 'Real Madrid', 'Winner of Lyon vs Barcelona': 'Barcelona', 'Winner of Liverpool vs Bayern Munich': 'Bayern Munich', 'Winner of Atletico Madrid vs Juventus': 'Juventus', 'Winner of Schalke 04 vs Manchester City': 'Manchester City'}\n",
      "{'Winner of QF1': 'Bayern Munich', 'Winner of QF2': 'Manchester City', 'Winner of QF3': 'Manchester United', 'Winner of QF4': 'Real Madrid'}\n",
      "{'Winner of SF1': 'Manchester United', 'Winner of SF2': 'Real Madrid'}\n",
      "Final winner for 2018-19: Manchester United\n",
      "\n",
      "Processing season 2019-20\n",
      "{'Winner of Borussia Dortmund vs Paris Saint-Germain': 'Paris Saint-Germain', 'Winner of Real Madrid vs Manchester City': 'Real Madrid', 'Winner of Atalanta vs Valencia': 'Valencia', 'Winner of Atletico Madrid vs Liverpool': 'Liverpool', 'Winner of Chelsea vs Bayern Munich': 'Bayern Munich', 'Winner of Lyon vs Juventus': 'Juventus', 'Winner of Tottenham Hotspur vs RB Leipzig': 'Tottenham Hotspur', 'Winner of Napoli vs Barcelona': 'Barcelona'}\n",
      "{'Winner of QF1': 'Paris Saint-Germain', 'Winner of QF2': 'Liverpool', 'Winner of QF3': 'Real Madrid', 'Winner of QF4': 'Barcelona'}\n",
      "{'Winner of SF1': 'Liverpool', 'Winner of SF2': 'Barcelona'}\n",
      "Final winner for 2019-20: Liverpool\n",
      "\n",
      "Processing season 2020-21\n",
      "{'Winner of RB Leipzig vs Liverpool': 'Liverpool', 'Winner of Barcelona vs Paris Saint-Germain': 'Barcelona', 'Winner of Porto vs Juventus': 'Juventus', 'Winner of Sevilla vs Borussia Dortmund': 'Borussia Dortmund', 'Winner of Lazio vs Bayern Munich': 'Bayern Munich', 'Winner of Atletico Madrid vs Chelsea': 'Atletico Madrid', 'Winner of Atalanta vs Real Madrid': 'Real Madrid', 'Winner of Borussia Monchengladbach vs Manchester City': 'Manchester City'}\n",
      "{'Winner of QF1': 'Juventus', 'Winner of QF2': 'Barcelona', 'Winner of QF3': 'Liverpool', 'Winner of QF4': 'Manchester City'}\n",
      "{'Winner of SF1': 'Liverpool', 'Winner of SF2': 'Manchester City'}\n",
      "Final winner for 2020-21: Manchester City\n",
      "\n",
      "Processing season 2021-22\n",
      "{'Winner of Paris Saint-Germain vs Real Madrid': 'Paris Saint-Germain', 'Winner of Sporting CP vs Manchester City': 'Manchester City', 'Winner of Red Bull Salzburg vs Bayern Munich': 'Bayern Munich', 'Winner of Inter Milan vs Liverpool': 'Liverpool', 'Winner of Chelsea vs Lille': 'Chelsea', 'Winner of Villarreal vs Juventus': 'Juventus', 'Winner of Atletico Madrid vs Manchester United': 'Manchester United', 'Winner of Benfica vs Ajax': 'Ajax'}\n",
      "{'Winner of QF1': 'Paris Saint-Germain', 'Winner of QF2': 'Manchester United', 'Winner of QF3': 'Bayern Munich', 'Winner of QF4': 'Liverpool'}\n",
      "{'Winner of SF1': 'Bayern Munich', 'Winner of SF2': 'Manchester United'}\n",
      "Final winner for 2021-22: Manchester United\n",
      "\n",
      "Processing season 2022-23\n",
      "{'Winner of RB Leipzig vs Manchester City': 'Manchester City', 'Winner of Club Brugge vs Benfica': 'Club Brugge', 'Winner of Liverpool vs Real Madrid': 'Real Madrid', 'Winner of AC Milan vs Tottenham Hotspur': 'Tottenham Hotspur', 'Winner of Eintracht Frankfurt vs Napoli': 'Napoli', 'Winner of Borussia Dortmund vs Chelsea': 'Chelsea', 'Winner of Inter Milan vs Porto': 'Porto', 'Winner of Paris Saint-Germain vs Bayern Munich': 'Bayern Munich'}\n",
      "{'Winner of QF1': 'Porto', 'Winner of QF2': 'Napoli', 'Winner of QF3': 'Manchester City', 'Winner of QF4': 'Real Madrid'}\n",
      "{'Winner of SF1': 'Porto', 'Winner of SF2': 'Manchester City'}\n",
      "Final winner for 2022-23: Manchester City\n",
      "\n",
      "Processing season 2023-24\n",
      "{'Winner of Copenhagen vs Manchester City': 'Manchester City', 'Winner of RB Leipzig vs Real Madrid': 'Real Madrid', 'Winner of Lazio vs Bayern Munich': 'Bayern Munich', 'Winner of Paris Saint-Germain vs Real Sociedad': 'Real Sociedad', 'Winner of Inter Milan vs Atletico Madrid': 'Atletico Madrid', 'Winner of PSV Eindhoven vs Borussia Dortmund': 'Borussia Dortmund', 'Winner of Porto vs Arsenal': 'Porto', 'Winner of Napoli vs Barcelona': 'Napoli'}\n",
      "{'Winner of QF1': 'Bayern Munich', 'Winner of QF2': 'Atletico Madrid', 'Winner of QF3': 'Real Sociedad', 'Winner of QF4': 'Real Madrid'}\n",
      "{'Winner of SF1': 'Real Sociedad', 'Winner of SF2': 'Real Madrid'}\n",
      "Final winner for 2023-24: Real Sociedad\n",
      "\n"
     ]
    }
   ],
   "source": [
    "run_tournament(data)"
   ]
  },
  {
   "cell_type": "code",
   "execution_count": 135,
   "metadata": {
    "execution": {
     "iopub.execute_input": "2025-06-09T14:47:15.392147Z",
     "iopub.status.busy": "2025-06-09T14:47:15.391559Z",
     "iopub.status.idle": "2025-06-09T14:47:15.397474Z",
     "shell.execute_reply": "2025-06-09T14:47:15.396649Z",
     "shell.execute_reply.started": "2025-06-09T14:47:15.392128Z"
    },
    "trusted": true
   },
   "outputs": [],
   "source": [
    "# Load your JSON data\n",
    "with open('/kaggle/working/exported_data.json', 'r') as f:\n",
    "    data = json.load(f)\n",
    "\n",
    "# Prepare the output DataFrame\n",
    "submission = []\n",
    "\n",
    "for season, rounds in data.items():\n",
    "    # Organize matchups by round\n",
    "    predictions = {\n",
    "        'round_of_16': rounds['round_of_16_matchups'],\n",
    "        'quarter_finals': rounds['quarter_finals_matchups'],\n",
    "        'semi_finals': rounds['semi_finals_matchups'],\n",
    "        'final': [rounds['final_matchup']]\n",
    "    }\n",
    "    # Append to submission\n",
    "    submission.append({\n",
    "        'id': int(season.split('-')[0]) - 2017,  # Or use any unique id strategy\n",
    "        'season': season,\n",
    "        'predictions': json.dumps(predictions)\n",
    "    })\n",
    "\n"
   ]
  },
  {
   "cell_type": "code",
   "execution_count": 136,
   "metadata": {
    "execution": {
     "iopub.execute_input": "2025-06-09T14:47:18.312774Z",
     "iopub.status.busy": "2025-06-09T14:47:18.312531Z",
     "iopub.status.idle": "2025-06-09T14:47:18.320468Z",
     "shell.execute_reply": "2025-06-09T14:47:18.319718Z",
     "shell.execute_reply.started": "2025-06-09T14:47:18.312758Z"
    },
    "trusted": true
   },
   "outputs": [
    {
     "data": {
      "text/html": [
       "<div>\n",
       "<style scoped>\n",
       "    .dataframe tbody tr th:only-of-type {\n",
       "        vertical-align: middle;\n",
       "    }\n",
       "\n",
       "    .dataframe tbody tr th {\n",
       "        vertical-align: top;\n",
       "    }\n",
       "\n",
       "    .dataframe thead th {\n",
       "        text-align: right;\n",
       "    }\n",
       "</style>\n",
       "<table border=\"1\" class=\"dataframe\">\n",
       "  <thead>\n",
       "    <tr style=\"text-align: right;\">\n",
       "      <th></th>\n",
       "      <th>id</th>\n",
       "      <th>season</th>\n",
       "      <th>predictions</th>\n",
       "    </tr>\n",
       "  </thead>\n",
       "  <tbody>\n",
       "    <tr>\n",
       "      <th>0</th>\n",
       "      <td>0</td>\n",
       "      <td>2017-18</td>\n",
       "      <td>{\"round_of_16\": [{\"team_1\": \"Juventus\", \"team_...</td>\n",
       "    </tr>\n",
       "    <tr>\n",
       "      <th>1</th>\n",
       "      <td>1</td>\n",
       "      <td>2018-19</td>\n",
       "      <td>{\"round_of_16\": [{\"team_1\": \"Roma\", \"team_2\": ...</td>\n",
       "    </tr>\n",
       "    <tr>\n",
       "      <th>2</th>\n",
       "      <td>2</td>\n",
       "      <td>2019-20</td>\n",
       "      <td>{\"round_of_16\": [{\"team_1\": \"Borussia Dortmund...</td>\n",
       "    </tr>\n",
       "    <tr>\n",
       "      <th>3</th>\n",
       "      <td>3</td>\n",
       "      <td>2020-21</td>\n",
       "      <td>{\"round_of_16\": [{\"team_1\": \"RB Leipzig\", \"tea...</td>\n",
       "    </tr>\n",
       "    <tr>\n",
       "      <th>4</th>\n",
       "      <td>4</td>\n",
       "      <td>2021-22</td>\n",
       "      <td>{\"round_of_16\": [{\"team_1\": \"Paris Saint-Germa...</td>\n",
       "    </tr>\n",
       "  </tbody>\n",
       "</table>\n",
       "</div>"
      ],
      "text/plain": [
       "   id   season                                        predictions\n",
       "0   0  2017-18  {\"round_of_16\": [{\"team_1\": \"Juventus\", \"team_...\n",
       "1   1  2018-19  {\"round_of_16\": [{\"team_1\": \"Roma\", \"team_2\": ...\n",
       "2   2  2019-20  {\"round_of_16\": [{\"team_1\": \"Borussia Dortmund...\n",
       "3   3  2020-21  {\"round_of_16\": [{\"team_1\": \"RB Leipzig\", \"tea...\n",
       "4   4  2021-22  {\"round_of_16\": [{\"team_1\": \"Paris Saint-Germa..."
      ]
     },
     "execution_count": 136,
     "metadata": {},
     "output_type": "execute_result"
    }
   ],
   "source": [
    "submission_df_optuna = pd.DataFrame(submission)\n",
    "submission_df_optuna.head()"
   ]
  },
  {
   "cell_type": "code",
   "execution_count": 137,
   "metadata": {
    "execution": {
     "iopub.execute_input": "2025-06-09T14:47:20.316592Z",
     "iopub.status.busy": "2025-06-09T14:47:20.316294Z",
     "iopub.status.idle": "2025-06-09T14:47:20.320765Z",
     "shell.execute_reply": "2025-06-09T14:47:20.320113Z",
     "shell.execute_reply.started": "2025-06-09T14:47:20.316576Z"
    },
    "trusted": true
   },
   "outputs": [],
   "source": [
    "def remove_date_from_predictions(row):\n",
    "    predictions = json.loads(row['predictions'])\n",
    "    for round_name in predictions:\n",
    "        for match in predictions[round_name]:\n",
    "            if 'date' in match:\n",
    "                del match['date']\n",
    "    row['predictions'] = json.dumps(predictions)\n",
    "    return row"
   ]
  },
  {
   "cell_type": "code",
   "execution_count": 138,
   "metadata": {
    "execution": {
     "iopub.execute_input": "2025-06-09T14:47:21.852049Z",
     "iopub.status.busy": "2025-06-09T14:47:21.851790Z",
     "iopub.status.idle": "2025-06-09T14:47:21.857164Z",
     "shell.execute_reply": "2025-06-09T14:47:21.856606Z",
     "shell.execute_reply.started": "2025-06-09T14:47:21.852032Z"
    },
    "trusted": true
   },
   "outputs": [],
   "source": [
    "submission_df_optuna = submission_df_optuna.apply(remove_date_from_predictions, axis=1)"
   ]
  },
  {
   "cell_type": "code",
   "execution_count": 139,
   "metadata": {
    "execution": {
     "iopub.execute_input": "2025-06-09T14:47:31.532224Z",
     "iopub.status.busy": "2025-06-09T14:47:31.531966Z",
     "iopub.status.idle": "2025-06-09T14:47:31.537215Z",
     "shell.execute_reply": "2025-06-09T14:47:31.536590Z",
     "shell.execute_reply.started": "2025-06-09T14:47:31.532205Z"
    },
    "trusted": true
   },
   "outputs": [],
   "source": [
    "submission_df_optuna.to_csv('classifier_model_no_optuna.csv')"
   ]
  },
  {
   "cell_type": "code",
   "execution_count": null,
   "metadata": {
    "trusted": true
   },
   "outputs": [],
   "source": []
  }
 ],
 "metadata": {
  "kaggle": {
   "accelerator": "none",
   "dataSources": [
    {
     "databundleVersionId": 12610082,
     "sourceId": 103339,
     "sourceType": "competition"
    },
    {
     "datasetId": 2586797,
     "sourceId": 4826716,
     "sourceType": "datasetVersion"
    },
    {
     "datasetId": 7612297,
     "sourceId": 12092356,
     "sourceType": "datasetVersion"
    },
    {
     "datasetId": 7612308,
     "sourceId": 12092374,
     "sourceType": "datasetVersion"
    },
    {
     "datasetId": 7622383,
     "sourceId": 12106998,
     "sourceType": "datasetVersion"
    }
   ],
   "dockerImageVersionId": 31040,
   "isGpuEnabled": false,
   "isInternetEnabled": false,
   "language": "python",
   "sourceType": "notebook"
  },
  "kernelspec": {
   "display_name": "Python 3",
   "language": "python",
   "name": "python3"
  },
  "language_info": {
   "codemirror_mode": {
    "name": "ipython",
    "version": 3
   },
   "file_extension": ".py",
   "mimetype": "text/x-python",
   "name": "python",
   "nbconvert_exporter": "python",
   "pygments_lexer": "ipython3",
   "version": "3.11.11"
  }
 },
 "nbformat": 4,
 "nbformat_minor": 4
}
